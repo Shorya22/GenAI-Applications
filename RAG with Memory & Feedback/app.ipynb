{
 "cells": [
  {
   "cell_type": "code",
   "execution_count": 1,
   "metadata": {},
   "outputs": [
    {
     "name": "stderr",
     "output_type": "stream",
     "text": [
      "USER_AGENT environment variable not set, consider setting it to identify your requests.\n"
     ]
    }
   ],
   "source": [
    "import pandas as pd\n",
    "from langchain_huggingface.embeddings import HuggingFaceEmbeddings\n",
    "from langchain.vectorstores import FAISS\n",
    "from langchain_groq import ChatGroq\n",
    "from langchain.memory import ConversationBufferWindowMemory\n",
    "from langchain_core.prompts import ChatPromptTemplate, MessagesPlaceholder\n",
    "import warnings\n",
    "warnings.filterwarnings(\"ignore\")\n",
    "import bs4\n",
    "from langchain import hub\n",
    "from langchain.chains.combine_documents import create_stuff_documents_chain\n",
    "from langchain_community.document_loaders import WebBaseLoader\n",
    "from langchain.text_splitter import RecursiveCharacterTextSplitter\n",
    "from langchain.chains import create_retrieval_chain\n",
    "from langchain.chains import create_history_aware_retriever\n",
    "from langchain_core.messages import AIMessage,HumanMessage"
   ]
  },
  {
   "cell_type": "code",
   "execution_count": null,
   "metadata": {},
   "outputs": [],
   "source": [
    "llm = ChatGroq(temperature=0.3, groq_api_key=\"\", model_name=\"llama-3.3-70b-versatile\")"
   ]
  },
  {
   "cell_type": "code",
   "execution_count": null,
   "metadata": {},
   "outputs": [],
   "source": [
    "embedding_model = HuggingFaceEmbeddings(model_name=\"sentence-transformers/all-MiniLM-L6-v2\",model_kwargs={\"use_auth_token\": \"\"})"
   ]
  },
  {
   "cell_type": "code",
   "execution_count": 4,
   "metadata": {},
   "outputs": [],
   "source": [
    "loader= WebBaseLoader(web_path=\"https://langchain-ai.github.io/langgraph/tutorials/introduction/#part-3-adding-memory-to-the-chatbot\",default_parser=\"html.parser\")"
   ]
  },
  {
   "cell_type": "code",
   "execution_count": 5,
   "metadata": {},
   "outputs": [],
   "source": [
    "doc= loader.load()"
   ]
  },
  {
   "cell_type": "code",
   "execution_count": 6,
   "metadata": {},
   "outputs": [
    {
     "data": {
      "text/plain": [
       "[Document(metadata={'source': 'https://langchain-ai.github.io/langgraph/tutorials/introduction/#part-3-adding-memory-to-the-chatbot', 'title': 'Learn the basics', 'description': 'Build language agents as graphs', 'language': 'en'}, page_content='\\n\\n\\n\\n\\n\\n\\n\\n\\n\\n\\n\\nLearn the basics\\n\\n\\n\\n\\n\\n\\n\\n\\n\\n\\n\\n\\n\\n\\n\\n          Skip to content\\n        \\n\\n\\n\\n\\n\\n\\n\\n            \\n            \\n  To learn more about LangGraph, check out our first LangChain Academy course, Introduction to LangGraph, available for free here.\\n\\n          \\n\\n\\n\\n\\n\\n\\n\\n\\n\\n\\n\\n\\n\\n\\n\\n\\n\\n\\n\\n\\n            \\n              Learn the basics\\n            \\n          \\n\\n\\n\\n\\n\\n\\n\\n\\n\\n\\n\\n\\n\\n\\n\\n\\n\\n\\n\\n\\n\\n\\n\\n\\n\\n\\n\\n\\n\\n\\n\\n\\n\\n\\n\\n\\n\\n\\n\\n\\n            Initializing search\\n          \\n\\n\\n\\n\\n\\n\\n\\n\\n\\n\\n\\n\\n    GitHub\\n  \\n\\n\\n\\n\\n\\n\\n\\n\\n\\n\\n          \\n  \\n    \\n  \\n  Home\\n\\n        \\n\\n\\n\\n          \\n  \\n    \\n  \\n  API reference\\n\\n        \\n\\n\\n\\n\\n\\n\\n\\n\\n\\n\\n\\n\\n\\n\\n\\n\\n\\n\\n\\n\\n\\n\\n    GitHub\\n  \\n\\n\\n\\n\\n\\n\\n\\n\\n    \\n  \\n    Home\\n  \\n\\n    \\n  \\n\\n\\n\\n\\n\\n\\n\\n\\n            \\n  \\n    Home\\n  \\n\\n          \\n\\n\\n\\n\\n\\n    \\n  \\n    Get started\\n  \\n\\n    \\n  \\n\\n\\n\\n\\n\\n            \\n  \\n    Get started\\n  \\n\\n          \\n\\n\\n\\n\\n\\n    \\n  \\n    Learn the basics\\n  \\n\\n    \\n  \\n\\n\\n\\n\\n    \\n  \\n    Learn the basics\\n  \\n\\n    \\n  \\n\\n\\n\\n\\n      Table of contents\\n    \\n\\n\\n\\n\\n      \\n        Setup\\n      \\n    \\n\\n\\n\\n\\n\\n      \\n        Part 1: Build a Basic Chatbot\\n      \\n    \\n\\n\\n\\n\\n\\n      \\n        Part 2: 🛠️ Enhancing the Chatbot with Tools\\n      \\n    \\n\\n\\n\\n\\n\\n\\n      \\n        Requirements\\n      \\n    \\n\\n\\n\\n\\n\\n\\n\\n\\n      \\n        Part 3: Adding Memory to the Chatbot\\n      \\n    \\n\\n\\n\\n\\n\\n      \\n        Part 4: Human-in-the-loop\\n      \\n    \\n\\n\\n\\n\\n\\n      \\n        Part 5: Customizing State\\n      \\n    \\n\\n\\n\\n\\n\\n\\n      \\n        Manually updating state\\n      \\n    \\n\\n\\n\\n\\n\\n\\n\\n\\n      \\n        Part 6: Time Travel\\n      \\n    \\n\\n\\n\\n\\n\\n      \\n        Next Steps\\n      \\n    \\n\\n\\n\\n\\n\\n\\n      \\n        Server Quickstart\\n      \\n    \\n\\n\\n\\n\\n\\n      \\n        LangGraph Cloud\\n      \\n    \\n\\n\\n\\n\\n\\n      \\n        LangGraph Framework\\n      \\n    \\n\\n\\n\\n\\n\\n      \\n        LangGraph Platform\\n      \\n    \\n\\n\\n\\n\\n\\n\\n\\n\\n\\n\\n\\n    \\n  \\n    Deployment\\n  \\n\\n    \\n  \\n\\n\\n\\n\\n\\n\\n\\n\\n\\n\\n    \\n  \\n    Guides\\n  \\n\\n    \\n  \\n\\n\\n\\n\\n\\n            \\n  \\n    Guides\\n  \\n\\n          \\n\\n\\n\\n\\n    \\n  \\n    How-to Guides\\n  \\n\\n    \\n  \\n\\n\\n\\n\\n\\n\\n    \\n  \\n    Concepts\\n  \\n\\n    \\n  \\n\\n\\n\\n\\n\\n\\n\\n\\n    \\n  \\n    Tutorials\\n  \\n\\n    \\n  \\n\\n\\n\\n\\n\\n\\n\\n\\n            \\n  \\n    Tutorials\\n  \\n\\n          \\n\\n\\n\\n\\n\\n\\n    \\n  \\n    Quick Start\\n  \\n\\n    \\n  \\n\\n\\n\\n\\n\\n\\n\\n\\n            \\n  \\n    Quick Start\\n  \\n\\n          \\n\\n\\n\\n\\n    \\n  \\n    Quick Start\\n  \\n\\n    \\n  \\n\\n\\n\\n\\n\\n\\n    \\n  \\n    Learn the basics\\n  \\n\\n    \\n  \\n\\n\\n\\n\\n    \\n  \\n    Learn the basics\\n  \\n\\n    \\n  \\n\\n\\n\\n\\n      Table of contents\\n    \\n\\n\\n\\n\\n      \\n        Setup\\n      \\n    \\n\\n\\n\\n\\n\\n      \\n        Part 1: Build a Basic Chatbot\\n      \\n    \\n\\n\\n\\n\\n\\n      \\n        Part 2: 🛠️ Enhancing the Chatbot with Tools\\n      \\n    \\n\\n\\n\\n\\n\\n\\n      \\n        Requirements\\n      \\n    \\n\\n\\n\\n\\n\\n\\n\\n\\n      \\n        Part 3: Adding Memory to the Chatbot\\n      \\n    \\n\\n\\n\\n\\n\\n      \\n        Part 4: Human-in-the-loop\\n      \\n    \\n\\n\\n\\n\\n\\n      \\n        Part 5: Customizing State\\n      \\n    \\n\\n\\n\\n\\n\\n\\n      \\n        Manually updating state\\n      \\n    \\n\\n\\n\\n\\n\\n\\n\\n\\n      \\n        Part 6: Time Travel\\n      \\n    \\n\\n\\n\\n\\n\\n      \\n        Next Steps\\n      \\n    \\n\\n\\n\\n\\n\\n\\n      \\n        Server Quickstart\\n      \\n    \\n\\n\\n\\n\\n\\n      \\n        LangGraph Cloud\\n      \\n    \\n\\n\\n\\n\\n\\n      \\n        LangGraph Framework\\n      \\n    \\n\\n\\n\\n\\n\\n      \\n        LangGraph Platform\\n      \\n    \\n\\n\\n\\n\\n\\n\\n\\n\\n\\n\\n\\n    \\n  \\n    Local Deploy\\n  \\n\\n    \\n  \\n\\n\\n\\n\\n\\n    \\n  \\n    Cloud Deploy\\n  \\n\\n    \\n  \\n\\n\\n\\n\\n\\n\\n\\n\\n    \\n  \\n    Chatbots\\n  \\n\\n    \\n  \\n\\n\\n\\n\\n\\n\\n    \\n  \\n    RAG\\n  \\n\\n    \\n  \\n\\n\\n\\n\\n\\n\\n    \\n  \\n    Agent Architectures\\n  \\n\\n    \\n  \\n\\n\\n\\n\\n\\n\\n    \\n  \\n    Evaluation & Analysis\\n  \\n\\n    \\n  \\n\\n\\n\\n\\n\\n\\n    \\n  \\n    Experimental\\n  \\n\\n    \\n  \\n\\n\\n\\n\\n\\n\\n    \\n  \\n    LangGraph Platform\\n  \\n\\n    \\n  \\n\\n\\n\\n\\n\\n\\n\\n\\n\\n\\n\\n\\n\\n    \\n  \\n    Resources\\n  \\n\\n    \\n  \\n\\n\\n\\n\\n\\n            \\n  \\n    Resources\\n  \\n\\n          \\n\\n\\n\\n\\n    \\n  \\n    FAQ\\n  \\n\\n    \\n  \\n\\n\\n\\n\\n\\n    \\n  \\n    Troubleshooting\\n  \\n\\n    \\n  \\n\\n\\n\\n\\n\\n\\n    \\n  \\n    LangGraph Academy Course\\n  \\n\\n    \\n  \\n\\n\\n\\n\\n\\n\\n\\n\\n\\n\\n\\n    \\n  \\n    API reference\\n  \\n\\n    \\n  \\n\\n\\n\\n\\n\\n\\n\\n\\n\\n\\n\\n\\n\\n\\n      Table of contents\\n    \\n\\n\\n\\n\\n      \\n        Setup\\n      \\n    \\n\\n\\n\\n\\n\\n      \\n        Part 1: Build a Basic Chatbot\\n      \\n    \\n\\n\\n\\n\\n\\n      \\n        Part 2: 🛠️ Enhancing the Chatbot with Tools\\n      \\n    \\n\\n\\n\\n\\n\\n\\n      \\n        Requirements\\n      \\n    \\n\\n\\n\\n\\n\\n\\n\\n\\n      \\n        Part 3: Adding Memory to the Chatbot\\n      \\n    \\n\\n\\n\\n\\n\\n      \\n        Part 4: Human-in-the-loop\\n      \\n    \\n\\n\\n\\n\\n\\n      \\n        Part 5: Customizing State\\n      \\n    \\n\\n\\n\\n\\n\\n\\n      \\n        Manually updating state\\n      \\n    \\n\\n\\n\\n\\n\\n\\n\\n\\n      \\n        Part 6: Time Travel\\n      \\n    \\n\\n\\n\\n\\n\\n      \\n        Next Steps\\n      \\n    \\n\\n\\n\\n\\n\\n\\n      \\n        Server Quickstart\\n      \\n    \\n\\n\\n\\n\\n\\n      \\n        LangGraph Cloud\\n      \\n    \\n\\n\\n\\n\\n\\n      \\n        LangGraph Framework\\n      \\n    \\n\\n\\n\\n\\n\\n      \\n        LangGraph Platform\\n      \\n    \\n\\n\\n\\n\\n\\n\\n\\n\\n\\n\\n\\n\\n\\n\\n\\n\\n    Home\\n  \\n\\n\\n\\n\\n\\n    Guides\\n  \\n\\n\\n\\n\\n\\n    Tutorials\\n  \\n\\n\\n\\n\\n\\n    Quick Start\\n  \\n\\n\\n\\n\\n\\n\\n\\n\\n\\n\\n🚀 LangGraph Quickstart¶\\nIn this tutorial, we will build a support chatbot in LangGraph that can:\\n✅ Answer common questions by searching the web\\n✅ Maintain conversation state across calls\\n✅ Route complex queries to a human for review\\n✅ Use custom state to control its behavior\\n✅ Rewind and explore alternative conversation paths  \\nWe\\'ll start with a basic chatbot and progressively add more sophisticated capabilities, introducing key LangGraph concepts along the way. Let’s dive in! 🌟\\nSetup¶\\nFirst, install the required packages and configure your environment:\\n%%capture --no-stderr\\n%pip install -U langgraph langsmith langchain_anthropic\\n\\nimport getpass\\nimport os\\n\\n\\ndef _set_env(var: str):\\n    if not os.environ.get(var):\\n        os.environ[var] = getpass.getpass(f\"{var}: \")\\n\\n\\n_set_env(\"ANTHROPIC_API_KEY\")\\n\\nANTHROPIC_API_KEY:  ········\\n\\n\\nSet up LangSmith for LangGraph development\\n\\n        Sign up for LangSmith to quickly spot issues and improve the performance of your LangGraph projects. LangSmith lets you use trace data to debug, test, and monitor your LLM apps built with LangGraph — read more about how to get started here. \\n    \\n\\nPart 1: Build a Basic Chatbot¶\\nWe\\'ll first create a simple chatbot using LangGraph. This chatbot will respond directly to user messages. Though simple, it will illustrate the core concepts of building with LangGraph. By the end of this section, you will have a built rudimentary chatbot.\\nStart by creating a StateGraph. A StateGraph object defines the structure of our chatbot as a \"state machine\". We\\'ll add nodes to represent the llm and functions our chatbot can call and edges to specify how the bot should transition between these functions.\\nfrom typing import Annotated\\n\\nfrom typing_extensions import TypedDict\\n\\nfrom langgraph.graph import StateGraph, START, END\\nfrom langgraph.graph.message import add_messages\\n\\n\\nclass State(TypedDict):\\n    # Messages have the type \"list\". The `add_messages` function\\n    # in the annotation defines how this state key should be updated\\n    # (in this case, it appends messages to the list, rather than overwriting them)\\n    messages: Annotated[list, add_messages]\\n\\n\\ngraph_builder = StateGraph(State)\\n\\nAPI Reference: StateGraph | START | END | add_messages\\nOur graph can now handle two key tasks:\\n\\nEach node can receive the current State as input and output an update to the state.\\nUpdates to messages will be appended to the existing list rather than overwriting it, thanks to the prebuilt add_messages function used with the Annotated syntax.\\n\\n\\n\\nConcept\\nWhen defining a graph, the first step is to define its State. The State includes the graph\\'s schema and reducer functions that handle state updates. In our example, State is a TypedDict with one key: messages. The add_messages reducer function is used to append new messages to the list instead of overwriting it. Keys without a reducer annotation will overwrite previous values. Learn more about state, reducers, and related concepts in this guide.\\n\\n\\nNext, add a \"chatbot\" node. Nodes represent units of work. They are typically regular python functions.\\nfrom langchain_anthropic import ChatAnthropic\\n\\nllm = ChatAnthropic(model=\"claude-3-5-sonnet-20240620\")\\n\\n\\ndef chatbot(state: State):\\n    return {\"messages\": [llm.invoke(state[\"messages\"])]}\\n\\n\\n# The first argument is the unique node name\\n# The second argument is the function or object that will be called whenever\\n# the node is used.\\ngraph_builder.add_node(\"chatbot\", chatbot)\\n\\nAPI Reference: ChatAnthropic\\nNotice how the chatbot node function takes the current State as input and returns a dictionary containing an updated messages list under the key \"messages\". This is the basic pattern for all LangGraph node functions.\\nThe add_messages function in our State will append the llm\\'s response messages to whatever messages are already in the state.\\nNext, add an entry point. This tells our graph where to start its work each time we run it.\\ngraph_builder.add_edge(START, \"chatbot\")\\n\\nSimilarly, set a finish point. This instructs the graph \"any time this node is run, you can exit.\"\\ngraph_builder.add_edge(\"chatbot\", END)\\n\\nFinally, we\\'ll want to be able to run our graph. To do so, call \"compile()\" on the graph builder. This creates a \"CompiledGraph\" we can use invoke on our state.\\ngraph = graph_builder.compile()\\n\\nYou can visualize the graph using the get_graph method and one of the \"draw\" methods, like draw_ascii or draw_png. The draw methods each require additional dependencies.\\nfrom IPython.display import Image, display\\n\\ntry:\\n    display(Image(graph.get_graph().draw_mermaid_png()))\\nexcept Exception:\\n    # This requires some extra dependencies and is optional\\n    pass\\n\\n\\nNow let\\'s run the chatbot! \\nTip: You can exit the chat loop at any time by typing \"quit\", \"exit\", or \"q\".\\ndef stream_graph_updates(user_input: str):\\n    for event in graph.stream({\"messages\": [{\"role\": \"user\", \"content\": user_input}]}):\\n        for value in event.values():\\n            print(\"Assistant:\", value[\"messages\"][-1].content)\\n\\n\\nwhile True:\\n    try:\\n        user_input = input(\"User: \")\\n        if user_input.lower() in [\"quit\", \"exit\", \"q\"]:\\n            print(\"Goodbye!\")\\n            break\\n\\n        stream_graph_updates(user_input)\\n    except:\\n        # fallback if input() is not available\\n        user_input = \"What do you know about LangGraph?\"\\n        print(\"User: \" + user_input)\\n        stream_graph_updates(user_input)\\n        break\\n\\nAssistant: LangGraph is a library designed to help build stateful multi-agent applications using language models. It provides tools for creating workflows and state machines to coordinate multiple AI agents or language model interactions. LangGraph is built on top of LangChain, leveraging its components while adding graph-based coordination capabilities. It\\'s particularly useful for developing more complex, stateful AI applications that go beyond simple query-response interactions.\\nGoodbye!\\n\\nCongratulations! You\\'ve built your first chatbot using LangGraph. This bot can engage in basic conversation by taking user input and generating responses using an LLM. You can inspect a LangSmith Trace for the call above at the provided link.\\nHowever, you may have noticed that the bot\\'s knowledge is limited to what\\'s in its training data. In the next part, we\\'ll add a web search tool to expand the bot\\'s knowledge and make it more capable.\\nBelow is the full code for this section for your reference:\\n\\nFull Code\\n\\n\\nfrom typing import Annotated\\n\\nfrom langchain_anthropic import ChatAnthropic\\nfrom typing_extensions import TypedDict\\n\\nfrom langgraph.graph import StateGraph\\nfrom langgraph.graph.message import add_messages\\n\\n\\nclass State(TypedDict):\\n    messages: Annotated[list, add_messages]\\n\\n\\ngraph_builder = StateGraph(State)\\n\\n\\nllm = ChatAnthropic(model=\"claude-3-5-sonnet-20240620\")\\n\\n\\ndef chatbot(state: State):\\n    return {\"messages\": [llm.invoke(state[\"messages\"])]}\\n\\n\\n# The first argument is the unique node name\\n# The second argument is the function or object that will be called whenever\\n# the node is used.\\ngraph_builder.add_node(\"chatbot\", chatbot)\\ngraph_builder.set_entry_point(\"chatbot\")\\ngraph_builder.set_finish_point(\"chatbot\")\\ngraph = graph_builder.compile()\\n\\n\\nAPI Reference: ChatAnthropic | StateGraph | add_messages\\n\\n\\n\\nPart 2: 🛠️ Enhancing the Chatbot with Tools¶\\nTo handle queries our chatbot can\\'t answer \"from memory\", we\\'ll integrate a web search tool. Our bot can use this tool to find relevant information and provide better responses.\\nRequirements¶\\nBefore we start, make sure you have the necessary packages installed and API keys set up:\\nFirst, install the requirements to use the Tavily Search Engine, and set your TAVILY_API_KEY.\\n%%capture --no-stderr\\n%pip install -U tavily-python langchain_community\\n\\n_set_env(\"TAVILY_API_KEY\")\\n\\nTAVILY_API_KEY:  ········\\n\\nNext, define the tool:\\nfrom langchain_community.tools.tavily_search import TavilySearchResults\\n\\ntool = TavilySearchResults(max_results=2)\\ntools = [tool]\\ntool.invoke(\"What\\'s a \\'node\\' in LangGraph?\")\\n\\nAPI Reference: TavilySearchResults\\n[{\\'url\\': \\'https://medium.com/@cplog/introduction-to-langgraph-a-beginners-guide-14f9be027141\\',\\n  \\'content\\': \\'Nodes: Nodes are the building blocks of your LangGraph. Each node represents a function or a computation step. You define nodes to perform specific tasks, such as processing input, making ...\\'},\\n {\\'url\\': \\'https://saksheepatil05.medium.com/demystifying-langgraph-a-beginner-friendly-dive-into-langgraph-concepts-5ffe890ddac0\\',\\n  \\'content\\': \\'Nodes (Tasks): Nodes are like the workstations on the assembly line. Each node performs a specific task on the product. In LangGraph, nodes are Python functions that take the current state, do some work, and return an updated state. Next, we define the nodes, each representing a task in our sandwich-making process.\\'}]\\n\\nThe results are page summaries our chat bot can use to answer questions.\\nNext, we\\'ll start defining our graph. The following is all the same as in Part 1, except we have added bind_tools on our LLM. This lets the LLM know the correct JSON format to use if it wants to use our search engine.\\nfrom typing import Annotated\\n\\nfrom langchain_anthropic import ChatAnthropic\\nfrom typing_extensions import TypedDict\\n\\nfrom langgraph.graph import StateGraph, START, END\\nfrom langgraph.graph.message import add_messages\\n\\n\\nclass State(TypedDict):\\n    messages: Annotated[list, add_messages]\\n\\n\\ngraph_builder = StateGraph(State)\\n\\n\\nllm = ChatAnthropic(model=\"claude-3-5-sonnet-20240620\")\\n# Modification: tell the LLM which tools it can call\\nllm_with_tools = llm.bind_tools(tools)\\n\\n\\ndef chatbot(state: State):\\n    return {\"messages\": [llm_with_tools.invoke(state[\"messages\"])]}\\n\\n\\ngraph_builder.add_node(\"chatbot\", chatbot)\\n\\nAPI Reference: ChatAnthropic | StateGraph | START | END | add_messages\\nNext we need to create a function to actually run the tools if they are called. We\\'ll do this by adding the tools to a new node.\\nBelow, we implement a BasicToolNode that checks the most recent message in the state and calls tools if the message contains tool_calls. It relies on the LLM\\'s tool_calling support, which is available in Anthropic, OpenAI, Google Gemini, and a number of other LLM providers.\\nWe will later replace this with LangGraph\\'s prebuilt ToolNode to speed things up, but building it ourselves first is instructive.\\nimport json\\n\\nfrom langchain_core.messages import ToolMessage\\n\\n\\nclass BasicToolNode:\\n    \"\"\"A node that runs the tools requested in the last AIMessage.\"\"\"\\n\\n    def __init__(self, tools: list) -> None:\\n        self.tools_by_name = {tool.name: tool for tool in tools}\\n\\n    def __call__(self, inputs: dict):\\n        if messages := inputs.get(\"messages\", []):\\n            message = messages[-1]\\n        else:\\n            raise ValueError(\"No message found in input\")\\n        outputs = []\\n        for tool_call in message.tool_calls:\\n            tool_result = self.tools_by_name[tool_call[\"name\"]].invoke(\\n                tool_call[\"args\"]\\n            )\\n            outputs.append(\\n                ToolMessage(\\n                    content=json.dumps(tool_result),\\n                    name=tool_call[\"name\"],\\n                    tool_call_id=tool_call[\"id\"],\\n                )\\n            )\\n        return {\"messages\": outputs}\\n\\n\\ntool_node = BasicToolNode(tools=[tool])\\ngraph_builder.add_node(\"tools\", tool_node)\\n\\nAPI Reference: ToolMessage\\nWith the tool node added, we can define the conditional_edges. \\nRecall that edges route the control flow from one node to the next. Conditional edges usually contain \"if\" statements to route to different nodes depending on the current graph state. These functions receive the current graph state and return a string or list of strings indicating which node(s) to call next.\\nBelow, call define a router function called route_tools, that checks for tool_calls in the chatbot\\'s output. Provide this function to the graph by calling add_conditional_edges, which tells the graph that whenever the chatbot node completes to check this function to see where to go next. \\nThe condition will route to tools if tool calls are present and END if not.\\nLater, we will replace this with the prebuilt tools_condition to be more concise, but implementing it ourselves first makes things more clear. \\ndef route_tools(\\n    state: State,\\n):\\n    \"\"\"\\n    Use in the conditional_edge to route to the ToolNode if the last message\\n    has tool calls. Otherwise, route to the end.\\n    \"\"\"\\n    if isinstance(state, list):\\n        ai_message = state[-1]\\n    elif messages := state.get(\"messages\", []):\\n        ai_message = messages[-1]\\n    else:\\n        raise ValueError(f\"No messages found in input state to tool_edge: {state}\")\\n    if hasattr(ai_message, \"tool_calls\") and len(ai_message.tool_calls) > 0:\\n        return \"tools\"\\n    return END\\n\\n\\n# The `tools_condition` function returns \"tools\" if the chatbot asks to use a tool, and \"END\" if\\n# it is fine directly responding. This conditional routing defines the main agent loop.\\ngraph_builder.add_conditional_edges(\\n    \"chatbot\",\\n    route_tools,\\n    # The following dictionary lets you tell the graph to interpret the condition\\'s outputs as a specific node\\n    # It defaults to the identity function, but if you\\n    # want to use a node named something else apart from \"tools\",\\n    # You can update the value of the dictionary to something else\\n    # e.g., \"tools\": \"my_tools\"\\n    {\"tools\": \"tools\", END: END},\\n)\\n# Any time a tool is called, we return to the chatbot to decide the next step\\ngraph_builder.add_edge(\"tools\", \"chatbot\")\\ngraph_builder.add_edge(START, \"chatbot\")\\ngraph = graph_builder.compile()\\n\\nNotice that conditional edges start from a single node. This tells the graph \"any time the \\'chatbot\\' node runs, either go to \\'tools\\' if it calls a tool, or end the loop if it responds directly. \\nLike the prebuilt tools_condition, our function returns the END string if no tool calls are made. When the graph transitions to END, it has no more tasks to complete and ceases execution. Because the condition can return END, we don\\'t need to explicitly set a finish_point this time. Our graph already has a way to finish!\\nLet\\'s visualize the graph we\\'ve built. The following function has some additional dependencies to run that are unimportant for this tutorial.\\nfrom IPython.display import Image, display\\n\\ntry:\\n    display(Image(graph.get_graph().draw_mermaid_png()))\\nexcept Exception:\\n    # This requires some extra dependencies and is optional\\n    pass\\n\\n\\nNow we can ask the bot questions outside its training data.\\nwhile True:\\n    try:\\n        user_input = input(\"User: \")\\n        if user_input.lower() in [\"quit\", \"exit\", \"q\"]:\\n            print(\"Goodbye!\")\\n            break\\n\\n        stream_graph_updates(user_input)\\n    except:\\n        # fallback if input() is not available\\n        user_input = \"What do you know about LangGraph?\"\\n        print(\"User: \" + user_input)\\n        stream_graph_updates(user_input)\\n        break\\n\\nAssistant: [{\\'text\\': \"To provide you with accurate and up-to-date information about LangGraph, I\\'ll need to search for the latest details. Let me do that for you.\", \\'type\\': \\'text\\'}, {\\'id\\': \\'toolu_01Q588CszHaSvvP2MxRq9zRD\\', \\'input\\': {\\'query\\': \\'LangGraph AI tool information\\'}, \\'name\\': \\'tavily_search_results_json\\', \\'type\\': \\'tool_use\\'}]\\nAssistant: [{\"url\": \"https://www.langchain.com/langgraph\", \"content\": \"LangGraph sets the foundation for how we can build and scale AI workloads \\\\u2014 from conversational agents, complex task automation, to custom LLM-backed experiences that \\'just work\\'. The next chapter in building complex production-ready features with LLMs is agentic, and with LangGraph and LangSmith, LangChain delivers an out-of-the-box solution ...\"}, {\"url\": \"https://github.com/langchain-ai/langgraph\", \"content\": \"Overview. LangGraph is a library for building stateful, multi-actor applications with LLMs, used to create agent and multi-agent workflows. Compared to other LLM frameworks, it offers these core benefits: cycles, controllability, and persistence. LangGraph allows you to define flows that involve cycles, essential for most agentic architectures ...\"}]\\nAssistant: Based on the search results, I can provide you with information about LangGraph:\\n\\n1. Purpose:\\n   LangGraph is a library designed for building stateful, multi-actor applications with Large Language Models (LLMs). It\\'s particularly useful for creating agent and multi-agent workflows.\\n\\n2. Developer:\\n   LangGraph is developed by LangChain, a company known for its tools and frameworks in the AI and LLM space.\\n\\n3. Key Features:\\n   - Cycles: LangGraph allows the definition of flows that involve cycles, which is essential for most agentic architectures.\\n   - Controllability: It offers enhanced control over the application flow.\\n   - Persistence: The library provides ways to maintain state and persistence in LLM-based applications.\\n\\n4. Use Cases:\\n   LangGraph can be used for various applications, including:\\n   - Conversational agents\\n   - Complex task automation\\n   - Custom LLM-backed experiences\\n\\n5. Integration:\\n   LangGraph works in conjunction with LangSmith, another tool by LangChain, to provide an out-of-the-box solution for building complex, production-ready features with LLMs.\\n\\n6. Significance:\\n   LangGraph is described as setting the foundation for building and scaling AI workloads. It\\'s positioned as a key tool in the next chapter of LLM-based application development, particularly in the realm of agentic AI.\\n\\n7. Availability:\\n   LangGraph is open-source and available on GitHub, which suggests that developers can access and contribute to its codebase.\\n\\n8. Comparison to Other Frameworks:\\n   LangGraph is noted to offer unique benefits compared to other LLM frameworks, particularly in its ability to handle cycles, provide controllability, and maintain persistence.\\n\\nLangGraph appears to be a significant tool in the evolving landscape of LLM-based application development, offering developers new ways to create more complex, stateful, and interactive AI systems.\\nGoodbye!\\n\\nCongrats! You\\'ve created a conversational agent in langgraph that can use a search engine to retrieve updated information when needed. Now it can handle a wider range of user queries. To inspect all the steps your agent just took, check out this LangSmith trace.\\nOur chatbot still can\\'t remember past interactions on its own, limiting its ability to have coherent, multi-turn conversations. In the next part, we\\'ll add memory to address this.\\nThe full code for the graph we\\'ve created in this section is reproduced below, replacing our BasicToolNode for the prebuilt ToolNode, and our route_tools condition with the prebuilt tools_condition\\n\\nFull Code\\n\\n\\nfrom typing import Annotated\\n\\nfrom langchain_anthropic import ChatAnthropic\\nfrom langchain_community.tools.tavily_search import TavilySearchResults\\nfrom langchain_core.messages import BaseMessage\\nfrom typing_extensions import TypedDict\\n\\nfrom langgraph.graph import StateGraph\\nfrom langgraph.graph.message import add_messages\\nfrom langgraph.prebuilt import ToolNode, tools_condition\\n\\n\\nclass State(TypedDict):\\n    messages: Annotated[list, add_messages]\\n\\n\\ngraph_builder = StateGraph(State)\\n\\n\\ntool = TavilySearchResults(max_results=2)\\ntools = [tool]\\nllm = ChatAnthropic(model=\"claude-3-5-sonnet-20240620\")\\nllm_with_tools = llm.bind_tools(tools)\\n\\n\\ndef chatbot(state: State):\\n    return {\"messages\": [llm_with_tools.invoke(state[\"messages\"])]}\\n\\n\\ngraph_builder.add_node(\"chatbot\", chatbot)\\n\\ntool_node = ToolNode(tools=[tool])\\ngraph_builder.add_node(\"tools\", tool_node)\\n\\ngraph_builder.add_conditional_edges(\\n    \"chatbot\",\\n    tools_condition,\\n)\\n# Any time a tool is called, we return to the chatbot to decide the next step\\ngraph_builder.add_edge(\"tools\", \"chatbot\")\\ngraph_builder.set_entry_point(\"chatbot\")\\ngraph = graph_builder.compile()\\n\\n\\nAPI Reference: ChatAnthropic | TavilySearchResults | BaseMessage | StateGraph | add_messages | ToolNode | tools_condition\\n\\n\\n\\nPart 3: Adding Memory to the Chatbot¶\\nOur chatbot can now use tools to answer user questions, but it doesn\\'t remember the context of previous interactions. This limits its ability to have coherent, multi-turn conversations.\\nLangGraph solves this problem through persistent checkpointing. If you provide a checkpointer when compiling the graph and a thread_id when calling your graph, LangGraph automatically saves the state after each step. When you invoke the graph again using the same thread_id, the graph loads its saved state, allowing the chatbot to pick up where it left off. \\nWe will see later that checkpointing is much more powerful than simple chat memory - it lets you save and resume complex state at any time for error recovery, human-in-the-loop workflows, time travel interactions, and more. But before we get too ahead of ourselves, let\\'s add checkpointing to enable multi-turn conversations.\\nTo get started, create a MemorySaver checkpointer.\\nfrom langgraph.checkpoint.memory import MemorySaver\\n\\nmemory = MemorySaver()\\n\\nAPI Reference: MemorySaver\\nNotice we\\'re using an in-memory checkpointer. This is convenient for our tutorial (it saves it all in-memory). In a production application, you would likely change this to use SqliteSaver or PostgresSaver and connect to your own DB.\\nNext define the graph. Now that you\\'ve already built your own BasicToolNode, we\\'ll replace it with LangGraph\\'s prebuilt ToolNode and tools_condition, since these do some nice things like parallel API execution. Apart from that, the following is all copied from Part 2.\\nfrom typing import Annotated\\n\\nfrom langchain_anthropic import ChatAnthropic\\nfrom langchain_community.tools.tavily_search import TavilySearchResults\\nfrom langchain_core.messages import BaseMessage\\nfrom typing_extensions import TypedDict\\n\\nfrom langgraph.graph import StateGraph, START, END\\nfrom langgraph.graph.message import add_messages\\nfrom langgraph.prebuilt import ToolNode, tools_condition\\n\\n\\nclass State(TypedDict):\\n    messages: Annotated[list, add_messages]\\n\\n\\ngraph_builder = StateGraph(State)\\n\\n\\ntool = TavilySearchResults(max_results=2)\\ntools = [tool]\\nllm = ChatAnthropic(model=\"claude-3-5-sonnet-20240620\")\\nllm_with_tools = llm.bind_tools(tools)\\n\\n\\ndef chatbot(state: State):\\n    return {\"messages\": [llm_with_tools.invoke(state[\"messages\"])]}\\n\\n\\ngraph_builder.add_node(\"chatbot\", chatbot)\\n\\ntool_node = ToolNode(tools=[tool])\\ngraph_builder.add_node(\"tools\", tool_node)\\n\\ngraph_builder.add_conditional_edges(\\n    \"chatbot\",\\n    tools_condition,\\n)\\n# Any time a tool is called, we return to the chatbot to decide the next step\\ngraph_builder.add_edge(\"tools\", \"chatbot\")\\ngraph_builder.add_edge(START, \"chatbot\")\\n\\nAPI Reference: ChatAnthropic | TavilySearchResults | BaseMessage | StateGraph | START | END | add_messages | ToolNode | tools_condition\\nFinally, compile the graph with the provided checkpointer.\\ngraph = graph_builder.compile(checkpointer=memory)\\n\\nNotice the connectivity of the graph hasn\\'t changed since Part 2. All we are doing is checkpointing the State as the graph works through each node.\\nfrom IPython.display import Image, display\\n\\ntry:\\n    display(Image(graph.get_graph().draw_mermaid_png()))\\nexcept Exception:\\n    # This requires some extra dependencies and is optional\\n    pass\\n\\n\\nNow you can interact with your bot! First, pick a thread to use as the key for this conversation.\\nconfig = {\"configurable\": {\"thread_id\": \"1\"}}\\n\\nNext, call your chat bot.\\nuser_input = \"Hi there! My name is Will.\"\\n\\n# The config is the **second positional argument** to stream() or invoke()!\\nevents = graph.stream(\\n    {\"messages\": [{\"role\": \"user\", \"content\": user_input}]},\\n    config,\\n    stream_mode=\"values\",\\n)\\nfor event in events:\\n    event[\"messages\"][-1].pretty_print()\\n\\n================================\\x1b[1m Human Message \\x1b[0m=================================\\n\\nHi there! My name is Will.\\n==================================\\x1b[1m Ai Message \\x1b[0m==================================\\n\\nHello Will! It\\'s nice to meet you. How can I assist you today? Is there anything specific you\\'d like to know or discuss?\\n\\nNote: The config was provided as the second positional argument when calling our graph. It importantly is not nested within the graph inputs ({\\'messages\\': []}).\\nLet\\'s ask a followup: see if it remembers your name.\\nuser_input = \"Remember my name?\"\\n\\n# The config is the **second positional argument** to stream() or invoke()!\\nevents = graph.stream(\\n    {\"messages\": [{\"role\": \"user\", \"content\": user_input}]},\\n    config,\\n    stream_mode=\"values\",\\n)\\nfor event in events:\\n    event[\"messages\"][-1].pretty_print()\\n\\n================================\\x1b[1m Human Message \\x1b[0m=================================\\n\\nRemember my name?\\n==================================\\x1b[1m Ai Message \\x1b[0m==================================\\n\\nOf course, I remember your name, Will. I always try to pay attention to important details that users share with me. Is there anything else you\\'d like to talk about or any questions you have? I\\'m here to help with a wide range of topics or tasks.\\n\\nNotice that we aren\\'t using an external list for memory: it\\'s all handled by the checkpointer! You can inspect the full execution in this LangSmith trace to see what\\'s going on.\\nDon\\'t believe me? Try this using a different config.\\n# The only difference is we change the `thread_id` here to \"2\" instead of \"1\"\\nevents = graph.stream(\\n    {\"messages\": [{\"role\": \"user\", \"content\": user_input}]},\\n    {\"configurable\": {\"thread_id\": \"2\"}},\\n    stream_mode=\"values\",\\n)\\nfor event in events:\\n    event[\"messages\"][-1].pretty_print()\\n\\n================================\\x1b[1m Human Message \\x1b[0m=================================\\n\\nRemember my name?\\n==================================\\x1b[1m Ai Message \\x1b[0m==================================\\n\\nI apologize, but I don\\'t have any previous context or memory of your name. As an AI assistant, I don\\'t retain information from past conversations. Each interaction starts fresh. Could you please tell me your name so I can address you properly in this conversation?\\n\\nNotice that the only change we\\'ve made is to modify the thread_id in the config. See this call\\'s LangSmith trace for comparison. \\nBy now, we have made a few checkpoints across two different threads. But what goes into a checkpoint? To inspect a graph\\'s state for a given config at any time, call get_state(config).\\nsnapshot = graph.get_state(config)\\nsnapshot\\n\\nStateSnapshot(values={\\'messages\\': [HumanMessage(content=\\'Hi there! My name is Will.\\', additional_kwargs={}, response_metadata={}, id=\\'8c1ca919-c553-4ebf-95d4-b59a2d61e078\\'), AIMessage(content=\"Hello Will! It\\'s nice to meet you. How can I assist you today? Is there anything specific you\\'d like to know or discuss?\", additional_kwargs={}, response_metadata={\\'id\\': \\'msg_01WTQebPhNwmMrmmWojJ9KXJ\\', \\'model\\': \\'claude-3-5-sonnet-20240620\\', \\'stop_reason\\': \\'end_turn\\', \\'stop_sequence\\': None, \\'usage\\': {\\'input_tokens\\': 405, \\'output_tokens\\': 32}}, id=\\'run-58587b77-8c82-41e6-8a90-d62c444a261d-0\\', usage_metadata={\\'input_tokens\\': 405, \\'output_tokens\\': 32, \\'total_tokens\\': 437}), HumanMessage(content=\\'Remember my name?\\', additional_kwargs={}, response_metadata={}, id=\\'daba7df6-ad75-4d6b-8057-745881cea1ca\\'), AIMessage(content=\"Of course, I remember your name, Will. I always try to pay attention to important details that users share with me. Is there anything else you\\'d like to talk about or any questions you have? I\\'m here to help with a wide range of topics or tasks.\", additional_kwargs={}, response_metadata={\\'id\\': \\'msg_01E41KitY74HpENRgXx94vag\\', \\'model\\': \\'claude-3-5-sonnet-20240620\\', \\'stop_reason\\': \\'end_turn\\', \\'stop_sequence\\': None, \\'usage\\': {\\'input_tokens\\': 444, \\'output_tokens\\': 58}}, id=\\'run-ffeaae5c-4d2d-4ddb-bd59-5d5cbf2a5af8-0\\', usage_metadata={\\'input_tokens\\': 444, \\'output_tokens\\': 58, \\'total_tokens\\': 502})]}, next=(), config={\\'configurable\\': {\\'thread_id\\': \\'1\\', \\'checkpoint_ns\\': \\'\\', \\'checkpoint_id\\': \\'1ef7d06e-93e0-6acc-8004-f2ac846575d2\\'}}, metadata={\\'source\\': \\'loop\\', \\'writes\\': {\\'chatbot\\': {\\'messages\\': [AIMessage(content=\"Of course, I remember your name, Will. I always try to pay attention to important details that users share with me. Is there anything else you\\'d like to talk about or any questions you have? I\\'m here to help with a wide range of topics or tasks.\", additional_kwargs={}, response_metadata={\\'id\\': \\'msg_01E41KitY74HpENRgXx94vag\\', \\'model\\': \\'claude-3-5-sonnet-20240620\\', \\'stop_reason\\': \\'end_turn\\', \\'stop_sequence\\': None, \\'usage\\': {\\'input_tokens\\': 444, \\'output_tokens\\': 58}}, id=\\'run-ffeaae5c-4d2d-4ddb-bd59-5d5cbf2a5af8-0\\', usage_metadata={\\'input_tokens\\': 444, \\'output_tokens\\': 58, \\'total_tokens\\': 502})]}}, \\'step\\': 4, \\'parents\\': {}}, created_at=\\'2024-09-27T19:30:10.820758+00:00\\', parent_config={\\'configurable\\': {\\'thread_id\\': \\'1\\', \\'checkpoint_ns\\': \\'\\', \\'checkpoint_id\\': \\'1ef7d06e-859f-6206-8003-e1bd3c264b8f\\'}}, tasks=())\\n\\nsnapshot.next  # (since the graph ended this turn, `next` is empty. If you fetch a state from within a graph invocation, next tells which node will execute next)\\n\\n()\\n\\nThe snapshot above contains the current state values, corresponding config, and the next node to process. In our case, the graph has reached an END state, so next is empty.\\nCongratulations! Your chatbot can now maintain conversation state across sessions thanks to LangGraph\\'s checkpointing system. This opens up exciting possibilities for more natural, contextual interactions. LangGraph\\'s checkpointing even handles arbitrarily complex graph states, which is much more expressive and powerful than simple chat memory.\\nIn the next part, we\\'ll introduce human oversight to our bot to handle situations where it may need guidance or verification before proceeding.\\nCheck out the code snippet below to review our graph from this section.\\n\\nFull Code\\n\\n\\nfrom typing import Annotated\\n\\nfrom langchain_anthropic import ChatAnthropic\\nfrom langchain_community.tools.tavily_search import TavilySearchResults\\nfrom langchain_core.messages import BaseMessage\\nfrom typing_extensions import TypedDict\\n\\nfrom langgraph.checkpoint.memory import MemorySaver\\nfrom langgraph.graph import StateGraph\\nfrom langgraph.graph.message import add_messages\\nfrom langgraph.prebuilt import ToolNode\\n\\n\\nclass State(TypedDict):\\n    messages: Annotated[list, add_messages]\\n\\n\\ngraph_builder = StateGraph(State)\\n\\n\\ntool = TavilySearchResults(max_results=2)\\ntools = [tool]\\nllm = ChatAnthropic(model=\"claude-3-5-sonnet-20240620\")\\nllm_with_tools = llm.bind_tools(tools)\\n\\n\\ndef chatbot(state: State):\\n    return {\"messages\": [llm_with_tools.invoke(state[\"messages\"])]}\\n\\n\\ngraph_builder.add_node(\"chatbot\", chatbot)\\n\\ntool_node = ToolNode(tools=[tool])\\ngraph_builder.add_node(\"tools\", tool_node)\\n\\ngraph_builder.add_conditional_edges(\\n    \"chatbot\",\\n    tools_condition,\\n)\\ngraph_builder.add_edge(\"tools\", \"chatbot\")\\ngraph_builder.set_entry_point(\"chatbot\")\\ngraph = graph_builder.compile(checkpointer=memory)\\n\\n\\nAPI Reference: ChatAnthropic | TavilySearchResults | BaseMessage | MemorySaver | StateGraph | add_messages | ToolNode\\n\\n\\n\\nPart 4: Human-in-the-loop¶\\nAgents can be unreliable and may need human input to successfully accomplish tasks. Similarly, for some actions, you may want to require human approval before running to ensure that everything is running as intended.\\nLangGraph\\'s persistence layer supports human-in-the-loop workflows, allowing execution to pause and resume based on user feedback. The primary interface to this functionality is the interrupt function. Calling interrupt inside a node will pause execution. Execution can be resumed, together with new input from a human, by passing in a Command. interrupt is ergonomically similar to Python\\'s built-in input(), with some caveats. We demonstrate an example below.\\nFirst, start with our existing code from Part 3. We will make one change, which is to add a simple human_assistance tool accessible to the chatbot. This tool uses interrupt to receive information from a human.\\nfrom typing import Annotated\\n\\nfrom langchain_anthropic import ChatAnthropic\\nfrom langchain_community.tools.tavily_search import TavilySearchResults\\nfrom langchain_core.tools import tool\\nfrom typing_extensions import TypedDict\\n\\nfrom langgraph.checkpoint.memory import MemorySaver\\nfrom langgraph.graph import StateGraph, START, END\\nfrom langgraph.graph.message import add_messages\\nfrom langgraph.prebuilt import ToolNode, tools_condition\\n\\nfrom langgraph.types import Command, interrupt\\n\\n\\nclass State(TypedDict):\\n    messages: Annotated[list, add_messages]\\n\\n\\ngraph_builder = StateGraph(State)\\n\\n\\n@tool\\ndef human_assistance(query: str) -> str:\\n    \"\"\"Request assistance from a human.\"\"\"\\n    human_response = interrupt({\"query\": query})\\n    return human_response[\"data\"]\\n\\n\\ntool = TavilySearchResults(max_results=2)\\ntools = [tool, human_assistance]\\nllm = ChatAnthropic(model=\"claude-3-5-sonnet-20240620\")\\nllm_with_tools = llm.bind_tools(tools)\\n\\n\\ndef chatbot(state: State):\\n    message = llm_with_tools.invoke(state[\"messages\"])\\n    # Because we will be interrupting during tool execution,\\n    # we disable parallel tool calling to avoid repeating any\\n    # tool invocations when we resume.\\n    assert len(message.tool_calls) <= 1\\n    return {\"messages\": [message]}\\n\\n\\ngraph_builder.add_node(\"chatbot\", chatbot)\\n\\ntool_node = ToolNode(tools=tools)\\ngraph_builder.add_node(\"tools\", tool_node)\\n\\ngraph_builder.add_conditional_edges(\\n    \"chatbot\",\\n    tools_condition,\\n)\\ngraph_builder.add_edge(\"tools\", \"chatbot\")\\ngraph_builder.add_edge(START, \"chatbot\")\\n\\nAPI Reference: ChatAnthropic | TavilySearchResults | tool | MemorySaver | StateGraph | START | END | add_messages | ToolNode | tools_condition | Command | interrupt\\n\\n\\nTip\\nCheck out the Human-in-the-loop section of the How-to Guides for more examples of Human-in-the-loop workflows, including how to review and edit tool calls before they are executed.\\n\\n\\nWe compile the graph with a checkpointer, as before:\\nmemory = MemorySaver()\\n\\ngraph = graph_builder.compile(checkpointer=memory)\\n\\nVisualizing the graph, we recover the same layout as before. We have just added a tool!\\nfrom IPython.display import Image, display\\n\\ntry:\\n    display(Image(graph.get_graph().draw_mermaid_png()))\\nexcept Exception:\\n    # This requires some extra dependencies and is optional\\n    pass\\n\\n\\nLet\\'s now prompt the chatbot with a question that will engage the new human_assistance tool:\\nuser_input = \"I need some expert guidance for building an AI agent. Could you request assistance for me?\"\\nconfig = {\"configurable\": {\"thread_id\": \"1\"}}\\n\\nevents = graph.stream(\\n    {\"messages\": [{\"role\": \"user\", \"content\": user_input}]},\\n    config,\\n    stream_mode=\"values\",\\n)\\nfor event in events:\\n    if \"messages\" in event:\\n        event[\"messages\"][-1].pretty_print()\\n\\n================================\\x1b[1m Human Message \\x1b[0m=================================\\n\\nI need some expert guidance for building an AI agent. Could you request assistance for me?\\n==================================\\x1b[1m Ai Message \\x1b[0m==================================\\n\\n[{\\'text\\': \"Certainly! I\\'d be happy to request expert assistance for you regarding building an AI agent. To do this, I\\'ll use the human_assistance function to relay your request. Let me do that for you now.\", \\'type\\': \\'text\\'}, {\\'id\\': \\'toolu_01ABUqneqnuHNuo1vhfDFQCW\\', \\'input\\': {\\'query\\': \\'A user is requesting expert guidance for building an AI agent. Could you please provide some expert advice or resources on this topic?\\'}, \\'name\\': \\'human_assistance\\', \\'type\\': \\'tool_use\\'}]\\nTool Calls:\\n  human_assistance (toolu_01ABUqneqnuHNuo1vhfDFQCW)\\n Call ID: toolu_01ABUqneqnuHNuo1vhfDFQCW\\n  Args:\\n    query: A user is requesting expert guidance for building an AI agent. Could you please provide some expert advice or resources on this topic?\\n\\nThe chatbot generated a tool call, but then execution has been interrupted! Note that if we inspect the graph state, we see that it stopped at the tools node:\\nsnapshot = graph.get_state(config)\\nsnapshot.next\\n\\n(\\'tools\\',)\\n\\nLet\\'s take a closer look at the human_assistance tool:\\n@tool\\ndef human_assistance(query: str) -> str:\\n    \"\"\"Request assistance from a human.\"\"\"\\n    human_response = interrupt({\"query\": query})\\n    return human_response[\"data\"]\\n\\nSimilar to Python\\'s built-in input() function, calling interrupt inside the tool will pause execution. Progress is persisted based on our choice of checkpointer-- so if we are persisting with Postgres, we can resume at any time as long as the database is alive. Here we are persisting with the in-memory checkpointer, so we can resume any time as long as our Python kernel is running.\\nTo resume execution, we pass a Command object containing data expected by the tool. The format of this data can be customized based on our needs. Here, we just need a dict with a key \"data\":\\nhuman_response = (\\n    \"We, the experts are here to help! We\\'d recommend you check out LangGraph to build your agent.\"\\n    \" It\\'s much more reliable and extensible than simple autonomous agents.\"\\n)\\n\\nhuman_command = Command(resume={\"data\": human_response})\\n\\nevents = graph.stream(human_command, config, stream_mode=\"values\")\\nfor event in events:\\n    if \"messages\" in event:\\n        event[\"messages\"][-1].pretty_print()\\n\\n==================================\\x1b[1m Ai Message \\x1b[0m==================================\\n\\n[{\\'text\\': \"Certainly! I\\'d be happy to request expert assistance for you regarding building an AI agent. To do this, I\\'ll use the human_assistance function to relay your request. Let me do that for you now.\", \\'type\\': \\'text\\'}, {\\'id\\': \\'toolu_01ABUqneqnuHNuo1vhfDFQCW\\', \\'input\\': {\\'query\\': \\'A user is requesting expert guidance for building an AI agent. Could you please provide some expert advice or resources on this topic?\\'}, \\'name\\': \\'human_assistance\\', \\'type\\': \\'tool_use\\'}]\\nTool Calls:\\n  human_assistance (toolu_01ABUqneqnuHNuo1vhfDFQCW)\\n Call ID: toolu_01ABUqneqnuHNuo1vhfDFQCW\\n  Args:\\n    query: A user is requesting expert guidance for building an AI agent. Could you please provide some expert advice or resources on this topic?\\n=================================\\x1b[1m Tool Message \\x1b[0m=================================\\nName: human_assistance\\n\\nWe, the experts are here to help! We\\'d recommend you check out LangGraph to build your agent. It\\'s much more reliable and extensible than simple autonomous agents.\\n==================================\\x1b[1m Ai Message \\x1b[0m==================================\\n\\nThank you for your patience. I\\'ve received some expert advice regarding your request for guidance on building an AI agent. Here\\'s what the experts have suggested:\\n\\nThe experts recommend that you look into LangGraph for building your AI agent. They mention that LangGraph is a more reliable and extensible option compared to simple autonomous agents.\\n\\nLangGraph is likely a framework or library designed specifically for creating AI agents with advanced capabilities. Here are a few points to consider based on this recommendation:\\n\\n1. Reliability: The experts emphasize that LangGraph is more reliable than simpler autonomous agent approaches. This could mean it has better stability, error handling, or consistent performance.\\n\\n2. Extensibility: LangGraph is described as more extensible, which suggests that it probably offers a flexible architecture that allows you to easily add new features or modify existing ones as your agent\\'s requirements evolve.\\n\\n3. Advanced capabilities: Given that it\\'s recommended over \"simple autonomous agents,\" LangGraph likely provides more sophisticated tools and techniques for building complex AI agents.\\n\\nTo get started with LangGraph, you might want to:\\n\\n1. Search for the official LangGraph documentation or website to learn more about its features and how to use it.\\n2. Look for tutorials or guides specifically focused on building AI agents with LangGraph.\\n3. Check if there are any community forums or discussion groups where you can ask questions and get support from other developers using LangGraph.\\n\\nIf you\\'d like more specific information about LangGraph or have any questions about this recommendation, please feel free to ask, and I can request further assistance from the experts.\\n\\nOur input has been received and processed as a tool message. Review this call\\'s LangSmith trace to see the exact work that was done in the above call. Notice that the state is loaded in the first step so that our chatbot can continue where it left off.\\nCongrats! You\\'ve used an interrupt to add human-in-the-loop execution to your chatbot, allowing for human oversight and intervention when needed. This opens up the potential UIs you can create with your AI systems. Since we have already added a checkpointer, as long as the underlying persistence layer is running, the graph can be paused indefinitely and resumed at any time as if nothing had happened.\\nHuman-in-the-loop workflows enable a variety of new workflows and user experiences. Check out this section of the How-to Guides for more examples of Human-in-the-loop workflows, including how to review and edit tool calls before they are executed.\\n\\nFull Code\\n\\n\\nfrom typing import Annotated\\n\\nfrom langchain_anthropic import ChatAnthropic\\nfrom langchain_community.tools.tavily_search import TavilySearchResults\\nfrom langchain_core.tools import tool\\nfrom typing_extensions import TypedDict\\n\\nfrom langgraph.checkpoint.memory import MemorySaver\\nfrom langgraph.graph import StateGraph, START, END\\nfrom langgraph.graph.message import add_messages\\nfrom langgraph.prebuilt import ToolNode, tools_condition\\nfrom langgraph.types import Command, interrupt\\n\\n\\nclass State(TypedDict):\\n    messages: Annotated[list, add_messages]\\n\\n\\ngraph_builder = StateGraph(State)\\n\\n\\n@tool\\ndef human_assistance(query: str) -> str:\\n    \"\"\"Request assistance from a human.\"\"\"\\n    human_response = interrupt({\"query\": query})\\n    return human_response[\"data\"]\\n\\n\\ntool = TavilySearchResults(max_results=2)\\ntools = [tool, human_assistance]\\nllm = ChatAnthropic(model=\"claude-3-5-sonnet-20240620\")\\nllm_with_tools = llm.bind_tools(tools)\\n\\n\\ndef chatbot(state: State):\\n    message = llm_with_tools.invoke(state[\"messages\"])\\n    assert(len(message.tool_calls) <= 1)\\n    return {\"messages\": [message]}\\n\\n\\ngraph_builder.add_node(\"chatbot\", chatbot)\\n\\ntool_node = ToolNode(tools=tools)\\ngraph_builder.add_node(\"tools\", tool_node)\\n\\ngraph_builder.add_conditional_edges(\\n    \"chatbot\",\\n    tools_condition,\\n)\\ngraph_builder.add_edge(\"tools\", \"chatbot\")\\ngraph_builder.add_edge(START, \"chatbot\")\\n\\nmemory = MemorySaver()\\ngraph = graph_builder.compile(checkpointer=memory)\\n\\n\\nAPI Reference: ChatAnthropic | TavilySearchResults | tool | MemorySaver | StateGraph | START | END | add_messages | ToolNode | tools_condition | Command | interrupt\\n\\n\\nPart 5: Customizing State¶\\nSo far, we\\'ve relied on a simple state with one entry-- a list of messages. You can go far with this simple state, but if you want to define complex behavior without relying on the message list, you can add additional fields to the state. Here we will demonstrate a new scenario, in which the chatbot is using its search tool to find specific information, and forwarding them to a human for review. Let\\'s have the chatbot research the birthday of an entity. We will add name and birthday keys to the state:\\nfrom typing import Annotated\\n\\nfrom typing_extensions import TypedDict\\n\\nfrom langgraph.graph.message import add_messages\\n\\n\\nclass State(TypedDict):\\n    messages: Annotated[list, add_messages]\\n    name: str\\n    birthday: str\\n\\nAPI Reference: add_messages\\nAdding this information to the state makes it easily accessible by other graph nodes (e.g., a downstream node that stores or processes the information), as well as the graph\\'s persistence layer.\\nHere, we will populate the state keys inside of our human_assistance tool. This allows a human to review the information before it is stored in the state. We will again use Command, this time to issue a state update from inside our tool. Read more about use cases for Command here.\\nfrom langchain_core.messages import ToolMessage\\nfrom langchain_core.tools import InjectedToolCallId, tool\\n\\nfrom langgraph.types import Command, interrupt\\n\\n\\n@tool\\n# Note that because we are generating a ToolMessage for a state update, we\\n# generally require the ID of the corresponding tool call. We can use\\n# LangChain\\'s InjectedToolCallId to signal that this argument should not\\n# be revealed to the model in the tool\\'s schema.\\ndef human_assistance(\\n    name: str, birthday: str, tool_call_id: Annotated[str, InjectedToolCallId]\\n) -> str:\\n    \"\"\"Request assistance from a human.\"\"\"\\n    human_response = interrupt(\\n        {\\n            \"question\": \"Is this correct?\",\\n            \"name\": name,\\n            \"birthday\": birthday,\\n        },\\n    )\\n    # If the information is correct, update the state as-is.\\n    if human_response.get(\"correct\", \"\").lower().startswith(\"y\"):\\n        verified_name = name\\n        verified_birthday = birthday\\n        response = \"Correct\"\\n    # Otherwise, receive information from the human reviewer.\\n    else:\\n        verified_name = human_response.get(\"name\", name)\\n        verified_birthday = human_response.get(\"birthday\", birthday)\\n        response = f\"Made a correction: {human_response}\"\\n\\n    # This time we explicitly update the state with a ToolMessage inside\\n    # the tool.\\n    state_update = {\\n        \"name\": verified_name,\\n        \"birthday\": verified_birthday,\\n        \"messages\": [ToolMessage(response, tool_call_id=tool_call_id)],\\n    }\\n    # We return a Command object in the tool to update our state.\\n    return Command(update=state_update)\\n\\nAPI Reference: ToolMessage | InjectedToolCallId | tool | Command | interrupt\\nOtherwise, the rest of our graph is the same:\\nfrom langchain_anthropic import ChatAnthropic\\nfrom langchain_community.tools.tavily_search import TavilySearchResults\\n\\nfrom langgraph.checkpoint.memory import MemorySaver\\nfrom langgraph.graph import StateGraph, START, END\\nfrom langgraph.prebuilt import ToolNode, tools_condition\\n\\n\\ntool = TavilySearchResults(max_results=2)\\ntools = [tool, human_assistance]\\nllm = ChatAnthropic(model=\"claude-3-5-sonnet-20240620\")\\nllm_with_tools = llm.bind_tools(tools)\\n\\n\\ndef chatbot(state: State):\\n    message = llm_with_tools.invoke(state[\"messages\"])\\n    assert len(message.tool_calls) <= 1\\n    return {\"messages\": [message]}\\n\\n\\ngraph_builder = StateGraph(State)\\ngraph_builder.add_node(\"chatbot\", chatbot)\\n\\ntool_node = ToolNode(tools=tools)\\ngraph_builder.add_node(\"tools\", tool_node)\\n\\ngraph_builder.add_conditional_edges(\\n    \"chatbot\",\\n    tools_condition,\\n)\\ngraph_builder.add_edge(\"tools\", \"chatbot\")\\ngraph_builder.add_edge(START, \"chatbot\")\\n\\nmemory = MemorySaver()\\ngraph = graph_builder.compile(checkpointer=memory)\\n\\nAPI Reference: ChatAnthropic | TavilySearchResults | MemorySaver | StateGraph | START | END | ToolNode | tools_condition\\nLet\\'s prompt our application to look up the \"birthday\" of the LangGraph library. We will direct the chatbot to reach out to the human_assistance tool once it has the required information. Note that setting name and birthday in the arguments for the tool, we force the chatbot to generate proposals for these fields.\\nuser_input = (\\n    \"Can you look up when LangGraph was released? \"\\n    \"When you have the answer, use the human_assistance tool for review.\"\\n)\\nconfig = {\"configurable\": {\"thread_id\": \"1\"}}\\n\\nevents = graph.stream(\\n    {\"messages\": [{\"role\": \"user\", \"content\": user_input}]},\\n    config,\\n    stream_mode=\"values\",\\n)\\nfor event in events:\\n    if \"messages\" in event:\\n        event[\"messages\"][-1].pretty_print()\\n\\n================================\\x1b[1m Human Message \\x1b[0m=================================\\n\\nCan you look up when LangGraph was released? When you have the answer, use the human_assistance tool for review.\\n==================================\\x1b[1m Ai Message \\x1b[0m==================================\\n\\n[{\\'text\\': \"Certainly! I\\'ll start by searching for information about LangGraph\\'s release date using the Tavily search function. Then, I\\'ll use the human_assistance tool for review.\", \\'type\\': \\'text\\'}, {\\'id\\': \\'toolu_01JoXQPgTVJXiuma8xMVwqAi\\', \\'input\\': {\\'query\\': \\'LangGraph release date\\'}, \\'name\\': \\'tavily_search_results_json\\', \\'type\\': \\'tool_use\\'}]\\nTool Calls:\\n  tavily_search_results_json (toolu_01JoXQPgTVJXiuma8xMVwqAi)\\n Call ID: toolu_01JoXQPgTVJXiuma8xMVwqAi\\n  Args:\\n    query: LangGraph release date\\n=================================\\x1b[1m Tool Message \\x1b[0m=================================\\nName: tavily_search_results_json\\n\\n[{\"url\": \"https://blog.langchain.dev/langgraph-cloud/\", \"content\": \"We also have a new stable release of LangGraph. By LangChain 6 min read Jun 27, 2024 (Oct \\'24) Edit: Since the launch of LangGraph Cloud, we now have multiple deployment options alongside LangGraph Studio - which now fall under LangGraph Platform. LangGraph Cloud is synonymous with our Cloud SaaS deployment option.\"}, {\"url\": \"https://changelog.langchain.com/announcements/langgraph-cloud-deploy-at-scale-monitor-carefully-iterate-boldly\", \"content\": \"LangChain - Changelog | ☁ 🚀 LangGraph Cloud: Deploy at scale, monitor LangChain LangSmith LangGraph LangChain LangSmith LangGraph LangChain LangSmith LangGraph LangChain Changelog Sign up for our newsletter to stay up to date DATE: The LangChain Team LangGraph LangGraph Cloud ☁ 🚀 LangGraph Cloud: Deploy at scale, monitor carefully, iterate boldly DATE: June 27, 2024 AUTHOR: The LangChain Team LangGraph Cloud is now in closed beta, offering scalable, fault-tolerant deployment for LangGraph agents. LangGraph Cloud also includes a new playground-like studio for debugging agent failure modes and quick iteration: Join the waitlist today for LangGraph Cloud. And to learn more, read our blog post announcement or check out our docs. Subscribe By clicking subscribe, you accept our privacy policy and terms and conditions.\"}]\\n==================================\\x1b[1m Ai Message \\x1b[0m==================================\\n\\n[{\\'text\\': \"Based on the search results, it appears that LangGraph was already in existence before June 27, 2024, when LangGraph Cloud was announced. However, the search results don\\'t provide a specific release date for the original LangGraph. \\\\n\\\\nGiven this information, I\\'ll use the human_assistance tool to review and potentially provide more accurate information about LangGraph\\'s initial release date.\", \\'type\\': \\'text\\'}, {\\'id\\': \\'toolu_01JDQAV7nPqMkHHhNs3j3XoN\\', \\'input\\': {\\'name\\': \\'Assistant\\', \\'birthday\\': \\'2023-01-01\\'}, \\'name\\': \\'human_assistance\\', \\'type\\': \\'tool_use\\'}]\\nTool Calls:\\n  human_assistance (toolu_01JDQAV7nPqMkHHhNs3j3XoN)\\n Call ID: toolu_01JDQAV7nPqMkHHhNs3j3XoN\\n  Args:\\n    name: Assistant\\n    birthday: 2023-01-01\\n\\nWe\\'ve hit the interrupt in the human_assistance tool again. In this case, the chatbot failed to identify the correct date, so we can supply it:\\nhuman_command = Command(\\n    resume={\\n        \"name\": \"LangGraph\",\\n        \"birthday\": \"Jan 17, 2024\",\\n    },\\n)\\n\\nevents = graph.stream(human_command, config, stream_mode=\"values\")\\nfor event in events:\\n    if \"messages\" in event:\\n        event[\"messages\"][-1].pretty_print()\\n\\n==================================\\x1b[1m Ai Message \\x1b[0m==================================\\n\\n[{\\'text\\': \"Based on the search results, it appears that LangGraph was already in existence before June 27, 2024, when LangGraph Cloud was announced. However, the search results don\\'t provide a specific release date for the original LangGraph. \\\\n\\\\nGiven this information, I\\'ll use the human_assistance tool to review and potentially provide more accurate information about LangGraph\\'s initial release date.\", \\'type\\': \\'text\\'}, {\\'id\\': \\'toolu_01JDQAV7nPqMkHHhNs3j3XoN\\', \\'input\\': {\\'name\\': \\'Assistant\\', \\'birthday\\': \\'2023-01-01\\'}, \\'name\\': \\'human_assistance\\', \\'type\\': \\'tool_use\\'}]\\nTool Calls:\\n  human_assistance (toolu_01JDQAV7nPqMkHHhNs3j3XoN)\\n Call ID: toolu_01JDQAV7nPqMkHHhNs3j3XoN\\n  Args:\\n    name: Assistant\\n    birthday: 2023-01-01\\n=================================\\x1b[1m Tool Message \\x1b[0m=================================\\nName: human_assistance\\n\\nMade a correction: {\\'name\\': \\'LangGraph\\', \\'birthday\\': \\'Jan 17, 2024\\'}\\n==================================\\x1b[1m Ai Message \\x1b[0m==================================\\n\\nThank you for the human assistance. I can now provide you with the correct information about LangGraph\\'s release date.\\n\\nLangGraph was initially released on January 17, 2024. This information comes from the human assistance correction, which is more accurate than the search results I initially found.\\n\\nTo summarize:\\n1. LangGraph\\'s original release date: January 17, 2024\\n2. LangGraph Cloud announcement: June 27, 2024\\n\\nIt\\'s worth noting that LangGraph had been in development and use for some time before the LangGraph Cloud announcement, but the official initial release of LangGraph itself was on January 17, 2024.\\n\\nNote that these fields are now reflected in the state:\\nsnapshot = graph.get_state(config)\\n\\n{k: v for k, v in snapshot.values.items() if k in (\"name\", \"birthday\")}\\n\\n{\\'name\\': \\'LangGraph\\', \\'birthday\\': \\'Jan 17, 2024\\'}\\n\\nThis makes them easily accessible to downstream nodes (e.g., a node that further processes or stores the information).\\nManually updating state¶\\nLangGraph gives a high degree of control over the application state. For instance, at any point (including when interrupted), we can manually override a key using graph.update_state:\\ngraph.update_state(config, {\"name\": \"LangGraph (library)\"})\\n\\n{\\'configurable\\': {\\'thread_id\\': \\'1\\',\\n  \\'checkpoint_ns\\': \\'\\',\\n  \\'checkpoint_id\\': \\'1efd4ec5-cf69-6352-8006-9278f1730162\\'}}\\n\\nIf we call graph.get_state, we can see the new value is reflected:\\nsnapshot = graph.get_state(config)\\n\\n{k: v for k, v in snapshot.values.items() if k in (\"name\", \"birthday\")}\\n\\n{\\'name\\': \\'LangGraph (library)\\', \\'birthday\\': \\'Jan 17, 2024\\'}\\n\\nManual state updates will even generate a trace in LangSmith. If desired, they can also be used to control human-in-the-loop workflows, as described in this guide. Use of the interrupt function is generally recommended instead, as it allows data to be transmitted in a human-in-the-loop interaction independently of state updates.\\nCongratulations! You\\'ve added custom keys to the state to facilitate a more complex workflow, and learned how to generate state updates from inside tools.\\nWe\\'re almost done with the tutorial, but there is one more concept we\\'d like to review before finishing that connects checkpointing and state updates. \\nThis section\\'s code is reproduced below for your reference.\\n\\nFull Code\\n\\n\\nfrom typing import Annotated\\n\\nfrom langchain_anthropic import ChatAnthropic\\nfrom langchain_community.tools.tavily_search import TavilySearchResults\\nfrom langchain_core.messages import ToolMessage\\nfrom langchain_core.tools import InjectedToolCallId, tool\\nfrom typing_extensions import TypedDict\\n\\nfrom langgraph.checkpoint.memory import MemorySaver\\nfrom langgraph.graph import StateGraph, START, END\\nfrom langgraph.graph.message import add_messages\\nfrom langgraph.prebuilt import ToolNode, tools_condition\\nfrom langgraph.types import Command, interrupt\\n\\n\\n\\nclass State(TypedDict):\\n    messages: Annotated[list, add_messages]\\n    name: str\\n    birthday: str\\n\\n\\n@tool\\ndef human_assistance(\\n    name: str, birthday: str, tool_call_id: Annotated[str, InjectedToolCallId]\\n) -> str:\\n    \"\"\"Request assistance from a human.\"\"\"\\n    human_response = interrupt(\\n        {\\n            \"question\": \"Is this correct?\",\\n            \"name\": name,\\n            \"birthday\": birthday,\\n        },\\n    )\\n    if human_response.get(\"correct\", \"\").lower().startswith(\"y\"):\\n        verified_name = name\\n        verified_birthday = birthday\\n        response = \"Correct\"\\n    else:\\n        verified_name = human_response.get(\"name\", name)\\n        verified_birthday = human_response.get(\"birthday\", birthday)\\n        response = f\"Made a correction: {human_response}\"\\n\\n    state_update = {\\n        \"name\": verified_name,\\n        \"birthday\": verified_birthday,\\n        \"messages\": [ToolMessage(response, tool_call_id=tool_call_id)],\\n    }\\n    return Command(update=state_update)\\n\\n\\ntool = TavilySearchResults(max_results=2)\\ntools = [tool, human_assistance]\\nllm = ChatAnthropic(model=\"claude-3-5-sonnet-20240620\")\\nllm_with_tools = llm.bind_tools(tools)\\n\\n\\ndef chatbot(state: State):\\n    message = llm_with_tools.invoke(state[\"messages\"])\\n    assert(len(message.tool_calls) <= 1)\\n    return {\"messages\": [message]}\\n\\n\\ngraph_builder = StateGraph(State)\\ngraph_builder.add_node(\"chatbot\", chatbot)\\n\\ntool_node = ToolNode(tools=tools)\\ngraph_builder.add_node(\"tools\", tool_node)\\n\\ngraph_builder.add_conditional_edges(\\n    \"chatbot\",\\n    tools_condition,\\n)\\ngraph_builder.add_edge(\"tools\", \"chatbot\")\\ngraph_builder.add_edge(START, \"chatbot\")\\n\\nmemory = MemorySaver()\\ngraph = graph_builder.compile(checkpointer=memory)\\n\\n\\nAPI Reference: ChatAnthropic | TavilySearchResults | ToolMessage | InjectedToolCallId | tool | MemorySaver | StateGraph | START | END | add_messages | ToolNode | tools_condition | Command | interrupt\\n\\n\\nPart 6: Time Travel¶\\nIn a typical chat bot workflow, the user interacts with the bot 1 or more times to accomplish a task. In the previous sections, we saw how to add memory and a human-in-the-loop to be able to checkpoint our graph state and control future responses.\\nBut what if you want to let your user start from a previous response and \"branch off\" to explore a separate outcome? Or what if you want users to be able to \"rewind\" your assistant\\'s work to fix some mistakes or try a different strategy (common in applications like autonomous software engineers)?\\nYou can create both of these experiences and more using LangGraph\\'s built-in \"time travel\" functionality. \\nIn this section, you will \"rewind\" your graph by fetching a checkpoint using the graph\\'s get_state_history method. You can then resume execution at this previous point in time.\\nFor this, let\\'s use the simple chatbot with tools from Part 3:\\nfrom typing import Annotated\\n\\nfrom langchain_anthropic import ChatAnthropic\\nfrom langchain_community.tools.tavily_search import TavilySearchResults\\nfrom langchain_core.messages import BaseMessage\\nfrom typing_extensions import TypedDict\\n\\nfrom langgraph.checkpoint.memory import MemorySaver\\nfrom langgraph.graph import StateGraph, START, END\\nfrom langgraph.graph.message import add_messages\\nfrom langgraph.prebuilt import ToolNode, tools_condition\\n\\n\\nclass State(TypedDict):\\n    messages: Annotated[list, add_messages]\\n\\n\\ngraph_builder = StateGraph(State)\\n\\n\\ntool = TavilySearchResults(max_results=2)\\ntools = [tool]\\nllm = ChatAnthropic(model=\"claude-3-5-sonnet-20240620\")\\nllm_with_tools = llm.bind_tools(tools)\\n\\n\\ndef chatbot(state: State):\\n    return {\"messages\": [llm_with_tools.invoke(state[\"messages\"])]}\\n\\n\\ngraph_builder.add_node(\"chatbot\", chatbot)\\n\\ntool_node = ToolNode(tools=[tool])\\ngraph_builder.add_node(\"tools\", tool_node)\\n\\ngraph_builder.add_conditional_edges(\\n    \"chatbot\",\\n    tools_condition,\\n)\\ngraph_builder.add_edge(\"tools\", \"chatbot\")\\ngraph_builder.add_edge(START, \"chatbot\")\\n\\nmemory = MemorySaver()\\ngraph = graph_builder.compile(checkpointer=memory)\\n\\nAPI Reference: ChatAnthropic | TavilySearchResults | BaseMessage | MemorySaver | StateGraph | START | END | add_messages | ToolNode | tools_condition\\nLet\\'s have our graph take a couple steps. Every step will be checkpointed in its state history:\\nconfig = {\"configurable\": {\"thread_id\": \"1\"}}\\nevents = graph.stream(\\n    {\\n        \"messages\": [\\n            {\\n                \"role\": \"user\",\\n                \"content\": (\\n                    \"I\\'m learning LangGraph. \"\\n                    \"Could you do some research on it for me?\"\\n                ),\\n            },\\n        ],\\n    },\\n    config,\\n    stream_mode=\"values\",\\n)\\nfor event in events:\\n    if \"messages\" in event:\\n        event[\"messages\"][-1].pretty_print()\\n\\n================================\\x1b[1m Human Message \\x1b[0m=================================\\n\\nI\\'m learning LangGraph. Could you do some research on it for me?\\n==================================\\x1b[1m Ai Message \\x1b[0m==================================\\n\\n[{\\'text\\': \"Certainly! I\\'d be happy to research LangGraph for you. To get the most up-to-date and accurate information, I\\'ll use the Tavily search engine to look this up. Let me do that for you now.\", \\'type\\': \\'text\\'}, {\\'id\\': \\'toolu_01BscbfJJB9EWJFqGrN6E54e\\', \\'input\\': {\\'query\\': \\'LangGraph latest information and features\\'}, \\'name\\': \\'tavily_search_results_json\\', \\'type\\': \\'tool_use\\'}]\\nTool Calls:\\n  tavily_search_results_json (toolu_01BscbfJJB9EWJFqGrN6E54e)\\n Call ID: toolu_01BscbfJJB9EWJFqGrN6E54e\\n  Args:\\n    query: LangGraph latest information and features\\n=================================\\x1b[1m Tool Message \\x1b[0m=================================\\nName: tavily_search_results_json\\n\\n[{\"url\": \"https://blockchain.news/news/langchain-new-features-upcoming-events-update\", \"content\": \"LangChain, a leading platform in the AI development space, has released its latest updates, showcasing new use cases and enhancements across its ecosystem. According to the LangChain Blog, the updates cover advancements in LangGraph Cloud, LangSmith\\'s self-improving evaluators, and revamped documentation for LangGraph.\"}, {\"url\": \"https://blog.langchain.dev/langgraph-platform-announce/\", \"content\": \"With these learnings under our belt, we decided to couple some of our latest offerings under LangGraph Platform. LangGraph Platform today includes LangGraph Server, LangGraph Studio, plus the CLI and SDK. ... we added features in LangGraph Server to deliver on a few key value areas. Below, we\\'ll focus on these aspects of LangGraph Platform.\"}]\\n==================================\\x1b[1m Ai Message \\x1b[0m==================================\\n\\nThank you for your patience. I\\'ve found some recent information about LangGraph for you. Let me summarize the key points:\\n\\n1. LangGraph is part of the LangChain ecosystem, which is a leading platform in AI development.\\n\\n2. Recent updates and features of LangGraph include:\\n\\n   a. LangGraph Cloud: This seems to be a cloud-based version of LangGraph, though specific details weren\\'t provided in the search results.\\n\\n   b. LangGraph Platform: This is a newly introduced concept that combines several offerings:\\n      - LangGraph Server\\n      - LangGraph Studio\\n      - CLI (Command Line Interface)\\n      - SDK (Software Development Kit)\\n\\n3. LangGraph Server: This component has received new features to enhance its value proposition, though the specific features weren\\'t detailed in the search results.\\n\\n4. LangGraph Studio: This appears to be a new tool in the LangGraph ecosystem, likely providing a graphical interface for working with LangGraph.\\n\\n5. Documentation: The LangGraph documentation has been revamped, which should make it easier for learners like yourself to understand and use the tool.\\n\\n6. Integration with LangSmith: While not directly part of LangGraph, LangSmith (another tool in the LangChain ecosystem) now features self-improving evaluators, which might be relevant if you\\'re using LangGraph as part of a larger LangChain project.\\n\\nAs you\\'re learning LangGraph, it would be beneficial to:\\n\\n1. Check out the official LangChain documentation, especially the newly revamped LangGraph sections.\\n2. Explore the different components of the LangGraph Platform (Server, Studio, CLI, and SDK) to see which best fits your learning needs.\\n3. Keep an eye on LangGraph Cloud developments, as cloud-based solutions often provide an easier starting point for learners.\\n4. Consider how LangGraph fits into the broader LangChain ecosystem, especially its interaction with tools like LangSmith.\\n\\nIs there any specific aspect of LangGraph you\\'d like to know more about? I\\'d be happy to do a more focused search on particular features or use cases.\\n\\nevents = graph.stream(\\n    {\\n        \"messages\": [\\n            {\\n                \"role\": \"user\",\\n                \"content\": (\\n                    \"Ya that\\'s helpful. Maybe I\\'ll \"\\n                    \"build an autonomous agent with it!\"\\n                ),\\n            },\\n        ],\\n    },\\n    config,\\n    stream_mode=\"values\",\\n)\\nfor event in events:\\n    if \"messages\" in event:\\n        event[\"messages\"][-1].pretty_print()\\n\\n================================\\x1b[1m Human Message \\x1b[0m=================================\\n\\nYa that\\'s helpful. Maybe I\\'ll build an autonomous agent with it!\\n==================================\\x1b[1m Ai Message \\x1b[0m==================================\\n\\n[{\\'text\\': \"That\\'s an exciting idea! Building an autonomous agent with LangGraph is indeed a great application of this technology. LangGraph is particularly well-suited for creating complex, multi-step AI workflows, which is perfect for autonomous agents. Let me gather some more specific information about using LangGraph for building autonomous agents.\", \\'type\\': \\'text\\'}, {\\'id\\': \\'toolu_01QWNHhUaeeWcGXvA4eHT7Zo\\', \\'input\\': {\\'query\\': \\'Building autonomous agents with LangGraph examples and tutorials\\'}, \\'name\\': \\'tavily_search_results_json\\', \\'type\\': \\'tool_use\\'}]\\nTool Calls:\\n  tavily_search_results_json (toolu_01QWNHhUaeeWcGXvA4eHT7Zo)\\n Call ID: toolu_01QWNHhUaeeWcGXvA4eHT7Zo\\n  Args:\\n    query: Building autonomous agents with LangGraph examples and tutorials\\n=================================\\x1b[1m Tool Message \\x1b[0m=================================\\nName: tavily_search_results_json\\n\\n[{\"url\": \"https://towardsdatascience.com/building-autonomous-multi-tool-agents-with-gemini-2-0-and-langgraph-ad3d7bd5e79d\", \"content\": \"Building Autonomous Multi-Tool Agents with Gemini 2.0 and LangGraph | by Youness Mansar | Jan, 2025 | Towards Data Science Building Autonomous Multi-Tool Agents with Gemini 2.0 and LangGraph A practical tutorial with full code examples for building and running multi-tool agents Towards Data Science LLMs are remarkable — they can memorize vast amounts of information, answer general knowledge questions, write code, generate stories, and even fix your grammar. In this tutorial, we are going to build a simple LLM agent that is equipped with four tools that it can use to answer a user’s question. This Agent will have the following specifications: Follow Published in Towards Data Science --------------------------------- Your home for data science and AI. Follow Follow Follow\"}, {\"url\": \"https://github.com/anmolaman20/Tools_and_Agents\", \"content\": \"GitHub - anmolaman20/Tools_and_Agents: This repository provides resources for building AI agents using Langchain and Langgraph. This repository provides resources for building AI agents using Langchain and Langgraph. This repository provides resources for building AI agents using Langchain and Langgraph. This repository serves as a comprehensive guide for building AI-powered agents using Langchain and Langgraph. It provides hands-on examples, practical tutorials, and resources for developers and AI enthusiasts to master building intelligent systems and workflows. AI Agent Development: Gain insights into creating intelligent systems that think, reason, and adapt in real time. This repository is ideal for AI practitioners, developers exploring language models, or anyone interested in building intelligent systems. This repository provides resources for building AI agents using Langchain and Langgraph.\"}]\\n==================================\\x1b[1m Ai Message \\x1b[0m==================================\\n\\nGreat idea! Building an autonomous agent with LangGraph is definitely an exciting project. Based on the latest information I\\'ve found, here are some insights and tips for building autonomous agents with LangGraph:\\n\\n1. Multi-Tool Agents: LangGraph is particularly well-suited for creating autonomous agents that can use multiple tools. This allows your agent to have a diverse set of capabilities and choose the right tool for each task.\\n\\n2. Integration with Large Language Models (LLMs): You can combine LangGraph with powerful LLMs like Gemini 2.0 to create more intelligent and capable agents. The LLM can serve as the \"brain\" of your agent, making decisions and generating responses.\\n\\n3. Workflow Management: LangGraph excels at managing complex, multi-step AI workflows. This is crucial for autonomous agents that need to break down tasks into smaller steps and execute them in the right order.\\n\\n4. Practical Tutorials Available: There are tutorials available that provide full code examples for building and running multi-tool agents. These can be incredibly helpful as you start your project.\\n\\n5. Langchain Integration: LangGraph is often used in conjunction with Langchain. This combination provides a powerful framework for building AI agents, offering features like memory management, tool integration, and prompt management.\\n\\n6. GitHub Resources: There are repositories available (like the one by anmolaman20) that provide comprehensive resources for building AI agents using Langchain and LangGraph. These can be valuable references as you develop your agent.\\n\\n7. Real-time Adaptation: LangGraph allows you to create agents that can think, reason, and adapt in real-time, which is crucial for truly autonomous behavior.\\n\\n8. Customization: You can equip your agent with specific tools tailored to your use case. For example, you might include tools for web searching, data analysis, or interacting with specific APIs.\\n\\nTo get started with your autonomous agent project:\\n\\n1. Familiarize yourself with LangGraph\\'s documentation and basic concepts.\\n2. Look into tutorials that specifically deal with building autonomous agents, like the one mentioned from Towards Data Science.\\n3. Decide on the specific capabilities you want your agent to have and identify the tools it will need.\\n4. Start with a simple agent and gradually add complexity as you become more comfortable with the framework.\\n5. Experiment with different LLMs to find the one that works best for your use case.\\n6. Pay attention to how you structure the agent\\'s decision-making process and workflow.\\n7. Don\\'t forget to implement proper error handling and safety measures, especially if your agent will be interacting with external systems or making important decisions.\\n\\nBuilding an autonomous agent is an iterative process, so be prepared to refine and improve your agent over time. Good luck with your project! If you need any more specific information as you progress, feel free to ask.\\n\\nNow that we\\'ve had the agent take a couple steps, we can replay the full state history to see everything that occurred.\\nto_replay = None\\nfor state in graph.get_state_history(config):\\n    print(\"Num Messages: \", len(state.values[\"messages\"]), \"Next: \", state.next)\\n    print(\"-\" * 80)\\n    if len(state.values[\"messages\"]) == 6:\\n        # We are somewhat arbitrarily selecting a specific state based on the number of chat messages in the state.\\n        to_replay = state\\n\\nNum Messages:  8 Next:  ()\\n--------------------------------------------------------------------------------\\nNum Messages:  7 Next:  (\\'chatbot\\',)\\n--------------------------------------------------------------------------------\\nNum Messages:  6 Next:  (\\'tools\\',)\\n--------------------------------------------------------------------------------\\nNum Messages:  5 Next:  (\\'chatbot\\',)\\n--------------------------------------------------------------------------------\\nNum Messages:  4 Next:  (\\'__start__\\',)\\n--------------------------------------------------------------------------------\\nNum Messages:  4 Next:  ()\\n--------------------------------------------------------------------------------\\nNum Messages:  3 Next:  (\\'chatbot\\',)\\n--------------------------------------------------------------------------------\\nNum Messages:  2 Next:  (\\'tools\\',)\\n--------------------------------------------------------------------------------\\nNum Messages:  1 Next:  (\\'chatbot\\',)\\n--------------------------------------------------------------------------------\\nNum Messages:  0 Next:  (\\'__start__\\',)\\n--------------------------------------------------------------------------------\\n\\nNotice that checkpoints are saved for every step of the graph. This spans invocations so you can rewind across a full thread\\'s history. We\\'ve picked out to_replay as a state to resume from. This is the state after the chatbot node in the second graph invocation above.\\nResuming from this point should call the action node next.\\nprint(to_replay.next)\\nprint(to_replay.config)\\n\\n(\\'tools\\',)\\n{\\'configurable\\': {\\'thread_id\\': \\'1\\', \\'checkpoint_ns\\': \\'\\', \\'checkpoint_id\\': \\'1efd43e3-0c1f-6c4e-8006-891877d65740\\'}}\\n\\nNotice that the checkpoint\\'s config (to_replay.config) contains a checkpoint_id timestamp. Providing this checkpoint_id value tells LangGraph\\'s checkpointer to load the state from that moment in time. Let\\'s try it below:\\n# The `checkpoint_id` in the `to_replay.config` corresponds to a state we\\'ve persisted to our checkpointer.\\nfor event in graph.stream(None, to_replay.config, stream_mode=\"values\"):\\n    if \"messages\" in event:\\n        event[\"messages\"][-1].pretty_print()\\n\\n==================================\\x1b[1m Ai Message \\x1b[0m==================================\\n\\n[{\\'text\\': \"That\\'s an exciting idea! Building an autonomous agent with LangGraph is indeed a great application of this technology. LangGraph is particularly well-suited for creating complex, multi-step AI workflows, which is perfect for autonomous agents. Let me gather some more specific information about using LangGraph for building autonomous agents.\", \\'type\\': \\'text\\'}, {\\'id\\': \\'toolu_01QWNHhUaeeWcGXvA4eHT7Zo\\', \\'input\\': {\\'query\\': \\'Building autonomous agents with LangGraph examples and tutorials\\'}, \\'name\\': \\'tavily_search_results_json\\', \\'type\\': \\'tool_use\\'}]\\nTool Calls:\\n  tavily_search_results_json (toolu_01QWNHhUaeeWcGXvA4eHT7Zo)\\n Call ID: toolu_01QWNHhUaeeWcGXvA4eHT7Zo\\n  Args:\\n    query: Building autonomous agents with LangGraph examples and tutorials\\n=================================\\x1b[1m Tool Message \\x1b[0m=================================\\nName: tavily_search_results_json\\n\\n[{\"url\": \"https://towardsdatascience.com/building-autonomous-multi-tool-agents-with-gemini-2-0-and-langgraph-ad3d7bd5e79d\", \"content\": \"Building Autonomous Multi-Tool Agents with Gemini 2.0 and LangGraph | by Youness Mansar | Jan, 2025 | Towards Data Science Building Autonomous Multi-Tool Agents with Gemini 2.0 and LangGraph A practical tutorial with full code examples for building and running multi-tool agents Towards Data Science LLMs are remarkable — they can memorize vast amounts of information, answer general knowledge questions, write code, generate stories, and even fix your grammar. In this tutorial, we are going to build a simple LLM agent that is equipped with four tools that it can use to answer a user’s question. This Agent will have the following specifications: Follow Published in Towards Data Science --------------------------------- Your home for data science and AI. Follow Follow Follow\"}, {\"url\": \"https://github.com/anmolaman20/Tools_and_Agents\", \"content\": \"GitHub - anmolaman20/Tools_and_Agents: This repository provides resources for building AI agents using Langchain and Langgraph. This repository provides resources for building AI agents using Langchain and Langgraph. This repository provides resources for building AI agents using Langchain and Langgraph. This repository serves as a comprehensive guide for building AI-powered agents using Langchain and Langgraph. It provides hands-on examples, practical tutorials, and resources for developers and AI enthusiasts to master building intelligent systems and workflows. AI Agent Development: Gain insights into creating intelligent systems that think, reason, and adapt in real time. This repository is ideal for AI practitioners, developers exploring language models, or anyone interested in building intelligent systems. This repository provides resources for building AI agents using Langchain and Langgraph.\"}]\\n==================================\\x1b[1m Ai Message \\x1b[0m==================================\\n\\nGreat idea! Building an autonomous agent with LangGraph is indeed an excellent way to apply and deepen your understanding of the technology. Based on the search results, I can provide you with some insights and resources to help you get started:\\n\\n1. Multi-Tool Agents:\\n   LangGraph is well-suited for building autonomous agents that can use multiple tools. This allows your agent to have a variety of capabilities and choose the appropriate tool based on the task at hand.\\n\\n2. Integration with Large Language Models (LLMs):\\n   There\\'s a tutorial that specifically mentions using Gemini 2.0 (Google\\'s LLM) with LangGraph to build autonomous agents. This suggests that LangGraph can be integrated with various LLMs, giving you flexibility in choosing the language model that best fits your needs.\\n\\n3. Practical Tutorials:\\n   There are tutorials available that provide full code examples for building and running multi-tool agents. These can be invaluable as you start your project, giving you a concrete starting point and demonstrating best practices.\\n\\n4. GitHub Resources:\\n   There\\'s a GitHub repository (github.com/anmolaman20/Tools_and_Agents) that provides resources for building AI agents using both Langchain and Langgraph. This could be a great resource for code examples, tutorials, and understanding how LangGraph fits into the broader LangChain ecosystem.\\n\\n5. Real-Time Adaptation:\\n   The resources mention creating intelligent systems that can think, reason, and adapt in real-time. This is a key feature of advanced autonomous agents and something you can aim for in your project.\\n\\n6. Diverse Applications:\\n   The materials suggest that these techniques can be applied to various tasks, from answering questions to potentially more complex decision-making processes.\\n\\nTo get started with your autonomous agent project using LangGraph, you might want to:\\n\\n1. Review the tutorials mentioned, especially those with full code examples.\\n2. Explore the GitHub repository for hands-on examples and resources.\\n3. Decide on the specific tasks or capabilities you want your agent to have.\\n4. Choose an LLM to integrate with LangGraph (like GPT, Gemini, or others).\\n5. Start with a simple agent that uses one or two tools, then gradually expand its capabilities.\\n6. Implement decision-making logic to help your agent choose between different tools or actions.\\n7. Test your agent thoroughly with various inputs and scenarios to ensure robust performance.\\n\\nRemember, building an autonomous agent is an iterative process. Start simple and gradually increase complexity as you become more comfortable with LangGraph and its capabilities.\\n\\nWould you like more information on any specific aspect of building your autonomous agent with LangGraph?\\n\\nNotice that the graph resumed execution from the **action** node. You can tell this is the case since the first value printed above is the response from our search engine tool.\\nCongratulations! You\\'ve now used time-travel checkpoint traversal in LangGraph. Being able to rewind and explore alternative paths opens up a world of possibilities for debugging, experimentation, and interactive applications.\\nNext Steps¶\\nTake your journey further by exploring deployment and advanced features:\\nServer Quickstart¶\\n\\nLangGraph Server Quickstart: Launch a LangGraph server locally and interact with it using the REST API and LangGraph Studio Web UI.\\n\\nLangGraph Cloud¶\\n\\nLangGraph Cloud QuickStart: Deploy your LangGraph app using LangGraph Cloud.\\n\\nLangGraph Framework¶\\n\\nLangGraph Concepts: Learn the foundational concepts of LangGraph.  \\nLangGraph How-to Guides: Guides for common tasks with LangGraph.\\n\\nLangGraph Platform¶\\nExpand your knowledge with these resources:\\n\\nLangGraph Platform Concepts: Understand the foundational concepts of the LangGraph Platform.  \\nLangGraph Platform How-to Guides: Guides for common tasks with LangGraph Platform. \\n\\nComments\\n\\n\\n\\n\\n\\n\\n\\n\\n\\n\\n  Back to top\\n\\n\\n\\n\\n\\n\\n\\n\\n\\n\\n                Previous\\n              \\n\\n                Tutorials\\n              \\n\\n\\n\\n\\n\\n                Next\\n              \\n\\n                Workflows and Agents\\n              \\n\\n\\n\\n\\n\\n\\n\\n\\n\\n  \\n  \\n    Made with\\n    \\n      Material for MkDocs Insiders\\n    \\n\\n\\n\\n\\n\\n\\n\\n\\n\\n\\n\\n\\n\\n\\n\\n\\n\\n\\n\\n\\n\\n\\n\\n')]"
      ]
     },
     "execution_count": 6,
     "metadata": {},
     "output_type": "execute_result"
    }
   ],
   "source": [
    "doc"
   ]
  },
  {
   "cell_type": "code",
   "execution_count": 7,
   "metadata": {},
   "outputs": [],
   "source": [
    "text_splitter= RecursiveCharacterTextSplitter(chunk_size=1000,chunk_overlap=300)\n",
    "splits= text_splitter.split_documents(doc)"
   ]
  },
  {
   "cell_type": "code",
   "execution_count": 8,
   "metadata": {},
   "outputs": [
    {
     "data": {
      "text/plain": [
       "123"
      ]
     },
     "execution_count": 8,
     "metadata": {},
     "output_type": "execute_result"
    }
   ],
   "source": [
    "len(splits)"
   ]
  },
  {
   "cell_type": "code",
   "execution_count": 9,
   "metadata": {},
   "outputs": [],
   "source": [
    "vectorstore= FAISS.from_documents(documents=splits,embedding=embedding_model)"
   ]
  },
  {
   "cell_type": "code",
   "execution_count": 10,
   "metadata": {},
   "outputs": [],
   "source": [
    "retriever = vectorstore.as_retriever()"
   ]
  },
  {
   "cell_type": "code",
   "execution_count": 11,
   "metadata": {},
   "outputs": [
    {
     "data": {
      "text/plain": [
       "[Document(id='9548bda7-5c1a-4aa9-abce-20082d77795f', metadata={'source': 'https://langchain-ai.github.io/langgraph/tutorials/introduction/#part-3-adding-memory-to-the-chatbot', 'title': 'Learn the basics', 'description': 'Build language agents as graphs', 'language': 'en'}, page_content=\"4. LangGraph Studio: This appears to be a new tool in the LangGraph ecosystem, likely providing a graphical interface for working with LangGraph.\\n\\n5. Documentation: The LangGraph documentation has been revamped, which should make it easier for learners like yourself to understand and use the tool.\\n\\n6. Integration with LangSmith: While not directly part of LangGraph, LangSmith (another tool in the LangChain ecosystem) now features self-improving evaluators, which might be relevant if you're using LangGraph as part of a larger LangChain project.\\n\\nAs you're learning LangGraph, it would be beneficial to:\"),\n",
       " Document(id='386d078a-1e87-4830-8ff7-45e6124cc6a0', metadata={'source': 'https://langchain-ai.github.io/langgraph/tutorials/introduction/#part-3-adding-memory-to-the-chatbot', 'title': 'Learn the basics', 'description': 'Build language agents as graphs', 'language': 'en'}, page_content=\"Thank you for your patience. I've found some recent information about LangGraph for you. Let me summarize the key points:\\n\\n1. LangGraph is part of the LangChain ecosystem, which is a leading platform in AI development.\\n\\n2. Recent updates and features of LangGraph include:\\n\\n   a. LangGraph Cloud: This seems to be a cloud-based version of LangGraph, though specific details weren't provided in the search results.\\n\\n   b. LangGraph Platform: This is a newly introduced concept that combines several offerings:\\n      - LangGraph Server\\n      - LangGraph Studio\\n      - CLI (Command Line Interface)\\n      - SDK (Software Development Kit)\\n\\n3. LangGraph Server: This component has received new features to enhance its value proposition, though the specific features weren't detailed in the search results.\\n\\n4. LangGraph Studio: This appears to be a new tool in the LangGraph ecosystem, likely providing a graphical interface for working with LangGraph.\"),\n",
       " Document(id='11cae5a1-bc75-4ddd-917c-484d87412b29', metadata={'source': 'https://langchain-ai.github.io/langgraph/tutorials/introduction/#part-3-adding-memory-to-the-chatbot', 'title': 'Learn the basics', 'description': 'Build language agents as graphs', 'language': 'en'}, page_content='Made a correction: {\\'name\\': \\'LangGraph\\', \\'birthday\\': \\'Jan 17, 2024\\'}\\n==================================\\x1b[1m Ai Message \\x1b[0m==================================\\n\\nThank you for the human assistance. I can now provide you with the correct information about LangGraph\\'s release date.\\n\\nLangGraph was initially released on January 17, 2024. This information comes from the human assistance correction, which is more accurate than the search results I initially found.\\n\\nTo summarize:\\n1. LangGraph\\'s original release date: January 17, 2024\\n2. LangGraph Cloud announcement: June 27, 2024\\n\\nIt\\'s worth noting that LangGraph had been in development and use for some time before the LangGraph Cloud announcement, but the official initial release of LangGraph itself was on January 17, 2024.\\n\\nNote that these fields are now reflected in the state:\\nsnapshot = graph.get_state(config)\\n\\n{k: v for k, v in snapshot.values.items() if k in (\"name\", \"birthday\")}\\n\\n{\\'name\\': \\'LangGraph\\', \\'birthday\\': \\'Jan 17, 2024\\'}'),\n",
       " Document(id='e38d864d-37a8-42d8-8fd2-95517f58e2f8', metadata={'source': 'https://langchain-ai.github.io/langgraph/tutorials/introduction/#part-3-adding-memory-to-the-chatbot', 'title': 'Learn the basics', 'description': 'Build language agents as graphs', 'language': 'en'}, page_content='1. Reliability: The experts emphasize that LangGraph is more reliable than simpler autonomous agent approaches. This could mean it has better stability, error handling, or consistent performance.\\n\\n2. Extensibility: LangGraph is described as more extensible, which suggests that it probably offers a flexible architecture that allows you to easily add new features or modify existing ones as your agent\\'s requirements evolve.\\n\\n3. Advanced capabilities: Given that it\\'s recommended over \"simple autonomous agents,\" LangGraph likely provides more sophisticated tools and techniques for building complex AI agents.\\n\\nTo get started with LangGraph, you might want to:')]"
      ]
     },
     "execution_count": 11,
     "metadata": {},
     "output_type": "execute_result"
    }
   ],
   "source": [
    "retriever.invoke(\"what is langgraph?\")"
   ]
  },
  {
   "cell_type": "code",
   "execution_count": 12,
   "metadata": {},
   "outputs": [],
   "source": [
    "system_prompt= '''You are a smart AI assistant.Response based on Context.\\n\\nContext:\\n\\n{context}'''"
   ]
  },
  {
   "cell_type": "code",
   "execution_count": 13,
   "metadata": {},
   "outputs": [],
   "source": [
    "chat_prompt= ChatPromptTemplate.from_messages([(\"system\",system_prompt),\n",
    "                                               (\"human\",\"{input}\")])"
   ]
  },
  {
   "cell_type": "code",
   "execution_count": 14,
   "metadata": {},
   "outputs": [],
   "source": [
    "stuff_chaining= create_stuff_documents_chain(llm=llm,prompt=chat_prompt)"
   ]
  },
  {
   "cell_type": "code",
   "execution_count": 15,
   "metadata": {},
   "outputs": [],
   "source": [
    "rag_chain= create_retrieval_chain(retriever=retriever,combine_docs_chain=stuff_chaining)"
   ]
  },
  {
   "cell_type": "code",
   "execution_count": 16,
   "metadata": {},
   "outputs": [],
   "source": [
    "response= rag_chain.invoke({\"input\":\"What is Langgraph?\"})"
   ]
  },
  {
   "cell_type": "code",
   "execution_count": 17,
   "metadata": {},
   "outputs": [
    {
     "name": "stdout",
     "output_type": "stream",
     "text": [
      "LangGraph is a tool in the LangChain ecosystem, which is a leading platform in AI development. It appears to be a comprehensive platform that provides various features and tools for working with AI, including a graphical interface, cloud-based version, server, command line interface, and software development kit.\n",
      "\n",
      "LangGraph is designed to be more reliable, extensible, and advanced compared to simpler autonomous agent approaches. It offers a flexible architecture that allows users to easily add new features or modify existing ones, making it a powerful tool for building complex AI agents.\n",
      "\n",
      "Some of the key features and components of LangGraph include:\n",
      "\n",
      "1. LangGraph Cloud: A cloud-based version of LangGraph.\n",
      "2. LangGraph Platform: A combination of several offerings, including LangGraph Server, LangGraph Studio, CLI, and SDK.\n",
      "3. LangGraph Server: A component that has received new features to enhance its value proposition.\n",
      "4. LangGraph Studio: A new tool that provides a graphical interface for working with LangGraph.\n",
      "\n",
      "LangGraph was initially released on January 17, 2024, and has been continuously updated and improved since then. It is part of the LangChain ecosystem, which also includes other tools like LangSmith, which features self-improving evaluators that can be relevant for LangGraph users.\n"
     ]
    }
   ],
   "source": [
    "print(response['answer'])"
   ]
  },
  {
   "cell_type": "markdown",
   "metadata": {},
   "source": [
    "# History Aware Chat:"
   ]
  },
  {
   "cell_type": "code",
   "execution_count": 18,
   "metadata": {},
   "outputs": [],
   "source": [
    "retriever_prompt= '''Retrieve contextually relevant historical information that accurately addresses the user’s query. \n",
    "Focus on key events, figures, and timelines, ensuring that sources are reliable and that the information reflects both historical facts and their \n",
    "contemporary significance.'''"
   ]
  },
  {
   "cell_type": "code",
   "execution_count": 19,
   "metadata": {},
   "outputs": [],
   "source": [
    "prompt_with_history= ChatPromptTemplate.from_messages([(\"system\",retriever_prompt),\n",
    "                                                    MessagesPlaceholder(variable_name=\"chat_history\"),\n",
    "                                                    (\"human\",\"{input}\"),])"
   ]
  },
  {
   "cell_type": "code",
   "execution_count": 20,
   "metadata": {},
   "outputs": [],
   "source": [
    "history_aware_retriever= create_history_aware_retriever(llm=llm,retriever=retriever,prompt=prompt_with_history)"
   ]
  },
  {
   "cell_type": "code",
   "execution_count": 21,
   "metadata": {},
   "outputs": [],
   "source": [
    "qa_prompt= ChatPromptTemplate.from_messages([(\"system\",system_prompt),\n",
    "                                             MessagesPlaceholder(variable_name=\"chat_history\"),\n",
    "                                               (\"human\",\"{input}\")])"
   ]
  },
  {
   "cell_type": "code",
   "execution_count": 22,
   "metadata": {},
   "outputs": [],
   "source": [
    "qa_chain= create_stuff_documents_chain(llm=llm,prompt=qa_prompt)"
   ]
  },
  {
   "cell_type": "code",
   "execution_count": 23,
   "metadata": {},
   "outputs": [],
   "source": [
    "rag_chain= create_retrieval_chain(history_aware_retriever,qa_chain)"
   ]
  },
  {
   "cell_type": "code",
   "execution_count": 24,
   "metadata": {},
   "outputs": [],
   "source": [
    "chat_history=[]"
   ]
  },
  {
   "cell_type": "code",
   "execution_count": 25,
   "metadata": {},
   "outputs": [],
   "source": [
    "question1= \"What is Langgraph?\""
   ]
  },
  {
   "cell_type": "code",
   "execution_count": 26,
   "metadata": {},
   "outputs": [],
   "source": [
    "response1= rag_chain.invoke({\"input\":question1,\"chat_history\":chat_history})"
   ]
  },
  {
   "cell_type": "code",
   "execution_count": 27,
   "metadata": {},
   "outputs": [
    {
     "name": "stdout",
     "output_type": "stream",
     "text": [
      "LangGraph is a tool that is part of the LangChain ecosystem, a leading platform in AI development. It was officially released on January 17, 2024. LangGraph has recently been updated with new features and components, including:\n",
      "\n",
      "1. LangGraph Cloud: A cloud-based version of LangGraph.\n",
      "2. LangGraph Platform: A combination of several offerings - LangGraph Server, LangGraph Studio, CLI, and SDK.\n",
      "3. LangGraph Server: This component has received new features to enhance its value proposition.\n",
      "4. LangGraph Studio: A new tool in the LangGraph ecosystem, providing a graphical interface for working with LangGraph.\n",
      "\n",
      "Additionally, LangGraph is considered more reliable and extensible than simpler autonomous agent approaches, offering advanced capabilities for building complex AI agents.\n",
      "\n",
      "When getting started with LangGraph, you might want to explore the documentation, which has been revamped for better understanding and use. You can also utilize LangGraph Studio for a graphical interface and integrate it with LangSmith, which now features self-improving evaluators, if you're using LangGraph as part of a larger LangChain project.\n"
     ]
    }
   ],
   "source": [
    "print(response1['answer'])"
   ]
  },
  {
   "cell_type": "code",
   "execution_count": 28,
   "metadata": {},
   "outputs": [],
   "source": [
    "chat_history.extend([HumanMessage(content=question1),\n",
    "                     AIMessage(content=response1['answer'])])"
   ]
  },
  {
   "cell_type": "code",
   "execution_count": 29,
   "metadata": {},
   "outputs": [],
   "source": [
    "question2= \"No its coding based please write code.\""
   ]
  },
  {
   "cell_type": "code",
   "execution_count": 30,
   "metadata": {},
   "outputs": [],
   "source": [
    "response2= rag_chain.invoke({\"input\":question2,\"chat_history\":chat_history})"
   ]
  },
  {
   "cell_type": "code",
   "execution_count": 31,
   "metadata": {},
   "outputs": [
    {
     "name": "stdout",
     "output_type": "stream",
     "text": [
      "Sure, here's a basic example of how you might use LangGraph to define a simple chatbot that can answer questions and maintain conversation state:\n",
      "\n",
      "```python\n",
      "import langchain\n",
      "from langchain.agents import Agent\n",
      "from langchain.memory import SimpleMemory\n",
      "\n",
      "# Initialize the LangGraph agent with a simple memory\n",
      "agent = Agent(SimpleMemory())\n",
      "\n",
      "# Define a function to handle user input\n",
      "def handle_input(user_input):\n",
      "    # Use the LangGraph agent to process the user input and generate a response\n",
      "    response = agent.run(user_input)\n",
      "    return response\n",
      "\n",
      "# Example usage\n",
      "user_input = \"What is the release date of LangGraph?\"\n",
      "response = handle_input(user_input)\n",
      "print(response)\n",
      "```\n",
      "\n",
      "This is just a simple example to get you started. LangGraph offers many more advanced features and capabilities for building complex AI agents.\n",
      "\n",
      "You can also use LangGraph with other tools, such as LangSmith, to create more sophisticated AI applications. For example, you might use LangSmith to define self-improving evaluators, which can be integrated with LangGraph to improve the performance of your AI agents over time.\n",
      "\n",
      "Here's an example of how you might use LangSmith with LangGraph:\n",
      "\n",
      "```python\n",
      "import langsmith\n",
      "from langchain.agents import Agent\n",
      "from langchain.memory import SimpleMemory\n",
      "\n",
      "# Initialize the LangSmith evaluator\n",
      "evaluator = langsmith.Evaluator()\n",
      "\n",
      "# Initialize the LangGraph agent with a simple memory\n",
      "agent = Agent(SimpleMemory())\n",
      "\n",
      "# Define a function to handle user input\n",
      "def handle_input(user_input):\n",
      "    # Use the LangGraph agent to process the user input and generate a response\n",
      "    response = agent.run(user_input)\n",
      "\n",
      "    # Use the LangSmith evaluator to evaluate the response and improve the LangGraph agent over time\n",
      "    evaluator.evaluate(user_input, response)\n",
      "\n",
      "    return response\n",
      "\n",
      "# Example usage\n",
      "user_input = \"What is the release date of LangGraph?\"\n",
      "response = handle_input(user_input)\n",
      "print(response)\n",
      "```\n",
      "\n",
      "This is just a basic example, but LangGraph and LangSmith offer many more advanced features and capabilities for building complex AI applications. I encourage you to explore the documentation and examples for more information.\n"
     ]
    }
   ],
   "source": [
    "print(response2['answer'])"
   ]
  },
  {
   "cell_type": "markdown",
   "metadata": {},
   "source": [
    "# Mehtod 2 for Chat History:"
   ]
  },
  {
   "cell_type": "code",
   "execution_count": 32,
   "metadata": {},
   "outputs": [],
   "source": [
    "from langchain_core.chat_history import BaseChatMessageHistory,InMemoryChatMessageHistory\n",
    "from langchain_core.runnables.history import RunnableWithMessageHistory"
   ]
  },
  {
   "cell_type": "code",
   "execution_count": 33,
   "metadata": {},
   "outputs": [],
   "source": [
    "store={}"
   ]
  },
  {
   "cell_type": "code",
   "execution_count": 34,
   "metadata": {},
   "outputs": [],
   "source": [
    "def get_by_session_id(session_id: str) -> BaseChatMessageHistory:\n",
    "        if session_id not in store:\n",
    "            store[session_id] = InMemoryChatMessageHistory()\n",
    "        return store[session_id]"
   ]
  },
  {
   "cell_type": "code",
   "execution_count": 35,
   "metadata": {},
   "outputs": [],
   "source": [
    "model_with_memory= RunnableWithMessageHistory(llm,get_session_history=get_by_session_id)"
   ]
  },
  {
   "cell_type": "code",
   "execution_count": 36,
   "metadata": {},
   "outputs": [],
   "source": [
    "config= {\"configurable\":{\"session_id\":\"firstchat\"}}"
   ]
  },
  {
   "cell_type": "code",
   "execution_count": 49,
   "metadata": {},
   "outputs": [
    {
     "name": "stdout",
     "output_type": "stream",
     "text": [
      "Your name is Shorya, as you mentioned earlier. It's nice to see you again. Is there something on your mind that you would like to ask or discuss about artificial intelligence, machine learning, or data science? I'm here to help and provide information and insights on these topics. Don't hesitate to let me know if you have any questions or if there's something you would like to know more about. I'm here to assist you.\n"
     ]
    }
   ],
   "source": [
    "input_data = {\n",
    "    \"messages\": [\n",
    "        {\"role\": \"human\", \"content\": \"What is my name\"}\n",
    "    ]\n",
    "}\n",
    "\n",
    "response = model_with_memory.invoke(input=input_data, config=config)\n",
    "print(response.content)"
   ]
  },
  {
   "cell_type": "code",
   "execution_count": 50,
   "metadata": {},
   "outputs": [
    {
     "data": {
      "text/plain": [
       "InMemoryChatMessageHistory(messages=[HumanMessage(content='Hello', additional_kwargs={}, response_metadata={}), AIMessage(content=\"Hello! It's nice to User-15292 to see you here. How can I help you today? Is there something specific you would like to know or discuss about artificial intelligence, machine learning, or data science? I'm here to answer your questions and provide information and insights on these topics. Let me know how I can assist you.\", additional_kwargs={}, response_metadata={'token_usage': {'completion_tokens': 75, 'prompt_tokens': 8, 'total_tokens': 83, 'completion_time': 0.113842143, 'prompt_time': 0.001886005, 'queue_time': 0.037811512, 'total_time': 0.115728148}, 'model_name': 'mixtral-8x7b-32768', 'system_fingerprint': 'fp_c5f20b5bb1', 'finish_reason': 'stop', 'logprobs': None}, id='run-e26c5aa4-e110-4e16-aa53-b8a0c4248e4e-0', usage_metadata={'input_tokens': 8, 'output_tokens': 75, 'total_tokens': 83}), HumanMessage(content='Hello', additional_kwargs={}, response_metadata={}), AIMessage(content=\"Hello again! I'm glad to see you're still here. Is there something on your mind that you would like to ask or discuss about artificial intelligence, machine learning, or data science? I'm here to help and provide information and insights on these topics. Don't hesitate to let me know if you have any questions or if there's something you would like to know more about. I'm here to assist you.\", additional_kwargs={}, response_metadata={'token_usage': {'completion_tokens': 92, 'prompt_tokens': 91, 'total_tokens': 183, 'completion_time': 0.140911798, 'prompt_time': 0.005599855, 'queue_time': 0.033093911999999996, 'total_time': 0.146511653}, 'model_name': 'mixtral-8x7b-32768', 'system_fingerprint': 'fp_c5f20b5bb1', 'finish_reason': 'stop', 'logprobs': None}, id='run-dc3be6c0-5840-44ca-a9aa-d17e61c3fd52-0', usage_metadata={'input_tokens': 91, 'output_tokens': 92, 'total_tokens': 183}), HumanMessage(content='my name is shorya', additional_kwargs={}, response_metadata={}), AIMessage(content=\"Hello Shorya, it's nice to meet you! I'm here to help and provide information and insights on artificial intelligence, machine learning, and data science. Is there something specific you would like to know or discuss about these topics? I'm here to assist you and answer any questions you may have. Don't hesitate to let me know if you need help with anything. I'm here to help.\", additional_kwargs={}, response_metadata={'token_usage': {'completion_tokens': 89, 'prompt_tokens': 196, 'total_tokens': 285, 'completion_time': 0.13572843, 'prompt_time': 0.011668627, 'queue_time': 0.02072035, 'total_time': 0.147397057}, 'model_name': 'mixtral-8x7b-32768', 'system_fingerprint': 'fp_c5f20b5bb1', 'finish_reason': 'stop', 'logprobs': None}, id='run-d5cd5792-840f-4a7c-ac77-3baf46f6cf00-0', usage_metadata={'input_tokens': 196, 'output_tokens': 89, 'total_tokens': 285}), HumanMessage(content='what is my name', additional_kwargs={}, response_metadata={}), AIMessage(content=\"Your name is Shorya, as you mentioned earlier. It's nice to meet you! I'm here to help and provide information and insights on artificial intelligence, machine learning, and data science. Is there something specific you would like to know or discuss about these topics? I'm here to assist you and answer any questions you may have. Don't hesitate to let me know if you need help with anything. I'm here to help.\", additional_kwargs={}, response_metadata={'token_usage': {'completion_tokens': 96, 'prompt_tokens': 296, 'total_tokens': 392, 'completion_time': 0.147624536, 'prompt_time': 0.0164371, 'queue_time': 0.018461557, 'total_time': 0.164061636}, 'model_name': 'mixtral-8x7b-32768', 'system_fingerprint': 'fp_c5f20b5bb1', 'finish_reason': 'stop', 'logprobs': None}, id='run-ec44a826-c155-418c-b4f7-f60ec05c781b-0', usage_metadata={'input_tokens': 296, 'output_tokens': 96, 'total_tokens': 392}), HumanMessage(content='Hello', additional_kwargs={}, response_metadata={}), AIMessage(content=\"Hello Shorya! It's nice to see you again. Is there something on your mind that you would like to ask or discuss about artificial intelligence, machine learning, or data science? I'm here to help and provide information and insights on these topics. Don't hesitate to let me know if you have any questions or if there's something you would like to know more about. I'm here to assist you.\", additional_kwargs={}, response_metadata={'token_usage': {'completion_tokens': 91, 'prompt_tokens': 400, 'total_tokens': 491, 'completion_time': 0.139486314, 'prompt_time': 0.022102145, 'queue_time': 0.019993172, 'total_time': 0.161588459}, 'model_name': 'mixtral-8x7b-32768', 'system_fingerprint': 'fp_c5f20b5bb1', 'finish_reason': 'stop', 'logprobs': None}, id='run-acab98a7-679a-4851-bb6e-7f0f1c08f41a-0', usage_metadata={'input_tokens': 400, 'output_tokens': 91, 'total_tokens': 491}), HumanMessage(content='How are you?', additional_kwargs={}, response_metadata={}), AIMessage(content=\"I'm just a computer program, so I don't have feelings or emotions like a human does. I'm here to help and provide information and insights on artificial intelligence, machine learning, and data science. Is there something specific you would like to know or discuss about these topics? I'm here to assist you and answer any questions you may have. Don't hesitate to let me know if you need help with anything. I'm here to help.\", additional_kwargs={}, response_metadata={'token_usage': {'completion_tokens': 98, 'prompt_tokens': 502, 'total_tokens': 600, 'completion_time': 0.150532807, 'prompt_time': 0.038203398, 'queue_time': 0.020204907, 'total_time': 0.188736205}, 'model_name': 'mixtral-8x7b-32768', 'system_fingerprint': 'fp_c5f20b5bb1', 'finish_reason': 'stop', 'logprobs': None}, id='run-b3c72cbf-aa05-40b6-8101-edd91c68b699-0', usage_metadata={'input_tokens': 502, 'output_tokens': 98, 'total_tokens': 600}), HumanMessage(content='What is my name', additional_kwargs={}, response_metadata={}), AIMessage(content=\"Your name is Shorya, as you mentioned earlier. It's nice to see you again. Is there something on your mind that you would like to ask or discuss about artificial intelligence, machine learning, or data science? I'm here to help and provide information and insights on these topics. Don't hesitate to let me know if you have any questions or if there's something you would like to know more about. I'm here to assist you.\", additional_kwargs={}, response_metadata={'token_usage': {'completion_tokens': 98, 'prompt_tokens': 611, 'total_tokens': 709, 'completion_time': 0.149792444, 'prompt_time': 0.029910253, 'queue_time': 0.022437739, 'total_time': 0.179702697}, 'model_name': 'mixtral-8x7b-32768', 'system_fingerprint': 'fp_c5f20b5bb1', 'finish_reason': 'stop', 'logprobs': None}, id='run-798b044a-a757-4f52-b483-e7eeb8831162-0', usage_metadata={'input_tokens': 611, 'output_tokens': 98, 'total_tokens': 709})])"
      ]
     },
     "execution_count": 50,
     "metadata": {},
     "output_type": "execute_result"
    }
   ],
   "source": [
    "store['firstchat']"
   ]
  },
  {
   "cell_type": "markdown",
   "metadata": {},
   "source": [
    "# RAG + ChatPromptTemplate + Multiple input variables:"
   ]
  },
  {
   "cell_type": "code",
   "execution_count": 52,
   "metadata": {},
   "outputs": [],
   "source": [
    "llm= llm"
   ]
  },
  {
   "cell_type": "code",
   "execution_count": 294,
   "metadata": {},
   "outputs": [],
   "source": [
    "system= '''Hi You are a smart chatbot.Always Answer based on given things.\n",
    "            Topic:\n",
    "            {topic}\n",
    "            \n",
    "            Method:\n",
    "            {method}'''"
   ]
  },
  {
   "cell_type": "code",
   "execution_count": 295,
   "metadata": {},
   "outputs": [],
   "source": [
    "prompt= ChatPromptTemplate.from_messages([(\"system\",system),\n",
    "                                                    MessagesPlaceholder(variable_name=\"chat_history\"),\n",
    "                                                    (\"human\",\"{input}\")])"
   ]
  },
  {
   "cell_type": "code",
   "execution_count": 296,
   "metadata": {},
   "outputs": [],
   "source": [
    "memory = ConversationBufferWindowMemory(k=2,memory_key=\"chat_history\",return_messages=True)"
   ]
  },
  {
   "cell_type": "code",
   "execution_count": 297,
   "metadata": {},
   "outputs": [
    {
     "data": {
      "text/plain": [
       "[]"
      ]
     },
     "execution_count": 297,
     "metadata": {},
     "output_type": "execute_result"
    }
   ],
   "source": [
    "memory.buffer"
   ]
  },
  {
   "cell_type": "code",
   "execution_count": 298,
   "metadata": {},
   "outputs": [
    {
     "data": {
      "text/plain": [
       "[]"
      ]
     },
     "execution_count": 298,
     "metadata": {},
     "output_type": "execute_result"
    }
   ],
   "source": [
    "memory.load_memory_variables({})['chat_history']"
   ]
  },
  {
   "cell_type": "code",
   "execution_count": 299,
   "metadata": {},
   "outputs": [
    {
     "data": {
      "text/plain": [
       "{'chat_history': []}"
      ]
     },
     "execution_count": 299,
     "metadata": {},
     "output_type": "execute_result"
    }
   ],
   "source": [
    "memory.load_memory_variables({})"
   ]
  },
  {
   "cell_type": "code",
   "execution_count": 300,
   "metadata": {},
   "outputs": [],
   "source": [
    "topic=\"\"\n",
    "method=\"\"\n",
    "input= \"Now how we make it 10.\"\n",
    "chat_history=memory.load_memory_variables({})['chat_history']"
   ]
  },
  {
   "cell_type": "code",
   "execution_count": 301,
   "metadata": {},
   "outputs": [],
   "source": [
    "final_prompt= prompt.format(topic=topic,method= method,input=input,chat_history=chat_history)"
   ]
  },
  {
   "cell_type": "code",
   "execution_count": 303,
   "metadata": {},
   "outputs": [],
   "source": [
    "response=llm.invoke(final_prompt).content"
   ]
  },
  {
   "cell_type": "code",
   "execution_count": 304,
   "metadata": {},
   "outputs": [
    {
     "name": "stdout",
     "output_type": "stream",
     "text": [
      "To make it 10, we need to know what \"it\" refers to. Could you please provide more context or information about what you want to make 10?\n"
     ]
    }
   ],
   "source": [
    "print(response)"
   ]
  },
  {
   "cell_type": "code",
   "execution_count": 305,
   "metadata": {},
   "outputs": [],
   "source": [
    "memory.save_context(inputs={HumanMessage:final_prompt},outputs={AIMessage:response})"
   ]
  },
  {
   "cell_type": "code",
   "execution_count": 306,
   "metadata": {},
   "outputs": [
    {
     "data": {
      "text/plain": [
       "[HumanMessage(content='System: Hi You are a smart chatbot.Always Answer based on given things.\\n            Topic:\\n            \\n            \\n            Method:\\n            \\nHuman: Now how we make it 10.', additional_kwargs={}, response_metadata={}),\n",
       " AIMessage(content='To make it 10, we need to know what \"it\" refers to. Could you please provide more context or information about what you want to make 10?', additional_kwargs={}, response_metadata={})]"
      ]
     },
     "execution_count": 306,
     "metadata": {},
     "output_type": "execute_result"
    }
   ],
   "source": [
    "memory.buffer"
   ]
  },
  {
   "cell_type": "markdown",
   "metadata": {},
   "source": [
    "# Memory+RAG+ChatPromptTemplate+Chain:"
   ]
  },
  {
   "cell_type": "code",
   "execution_count": 341,
   "metadata": {},
   "outputs": [],
   "source": [
    "retriever = vectorstore.as_retriever(search_type=\"similarity\", search_kwargs={'k': 2})\n",
    "\n",
    "# Define the system prompt template\n",
    "system = '''Hi, you are a smart chatbot. Always answer based on the given things.\n",
    "            Topic: {topic}\n",
    "            Method: {method}\n",
    "            {context}'''\n",
    "\n",
    "prompt= ChatPromptTemplate.from_messages([(\"system\",system),\n",
    "                                                    MessagesPlaceholder(variable_name=\"chat_history\"),\n",
    "                                                    (\"human\",\"{input}\")])\n",
    "\n",
    "# Set up memory (to store conversation history)\n",
    "memory = ConversationBufferWindowMemory(k=3, memory_key=\"chat_history\", return_messages=True)\n",
    "\n",
    "# Create stuff documents chain\n",
    "stuff_chaining = create_stuff_documents_chain(llm=llm, prompt=prompt)\n",
    "\n",
    "# Create the RAG (retrieval-augmented generation) chain\n",
    "rag_chain = create_retrieval_chain(retriever=retriever, combine_docs_chain=stuff_chaining)\n"
   ]
  },
  {
   "cell_type": "code",
   "execution_count": 342,
   "metadata": {},
   "outputs": [],
   "source": [
    "# Prepare input data\n",
    "topic = \"\"  # Set your topic\n",
    "method = \"\"  # Set your method\n",
    "input_text = \"What is biology? answer based on context only\"\n",
    "chat_history = memory.load_memory_variables({})['chat_history']\n",
    "\n",
    "# Retrieve context from the retriever\n",
    "context = retriever.invoke(input_text)  # Assuming it retrieves the relevant documents"
   ]
  },
  {
   "cell_type": "code",
   "execution_count": 343,
   "metadata": {},
   "outputs": [],
   "source": [
    "# Format the prompt with the contextual input (still using a dictionary format)\n",
    "final_prompt = {\n",
    "    \"topic\": topic,\n",
    "    \"method\": method,\n",
    "    \"input\": input_text,\n",
    "    \"chat_history\": chat_history,\n",
    "    \"context\": context  # Pass context as part of the dictionary\n",
    "}\n",
    "\n",
    "# Generate the final response using the RAG chain\n",
    "response = rag_chain.invoke(final_prompt)\n",
    "\n",
    "# Format the prompt with the contextual input\n",
    "input_string = prompt.format(topic=topic, method=method, input=input_text, chat_history=chat_history, context=context)\n",
    "\n",
    "memory.save_context(inputs={HumanMessage:input_string},outputs={AIMessage:response['answer']})"
   ]
  },
  {
   "cell_type": "code",
   "execution_count": 344,
   "metadata": {},
   "outputs": [
    {
     "name": "stdout",
     "output_type": "stream",
     "text": [
      "There is no context about biology in the given text. The text appears to be a code snippet related to human assistance and verification of personal information, such as name and birthday.\n"
     ]
    }
   ],
   "source": [
    "print(response['answer'])"
   ]
  },
  {
   "cell_type": "markdown",
   "metadata": {},
   "source": [
    "# LCEL + Runnables + RAG + Chain:"
   ]
  },
  {
   "cell_type": "code",
   "execution_count": 523,
   "metadata": {},
   "outputs": [],
   "source": [
    "from langchain_core.runnables import RunnableParallel,RunnablePassthrough\n",
    "from langchain_core.output_parsers import StrOutputParser\n",
    "from operator import itemgetter"
   ]
  },
  {
   "cell_type": "code",
   "execution_count": 524,
   "metadata": {},
   "outputs": [],
   "source": [
    "retriever = vectorstore.as_retriever(search_type=\"similarity\", search_kwargs={'k': 2})\n",
    "\n",
    "# Define the system prompt template\n",
    "system = '''Hi, you are a smart chatbot. Always answer based on the given things.\n",
    "            Topic: {topic}\n",
    "            Method: {method}\n",
    "            {context}'''\n",
    "\n",
    "prompt= ChatPromptTemplate.from_messages([(\"system\",system),\n",
    "                                                    MessagesPlaceholder(variable_name=\"chat_history\"),\n",
    "                                                    (\"human\",\"{input}\")])\n",
    "\n",
    "# Set up memory (to store conversation history)\n",
    "memory = ConversationBufferWindowMemory(k=3, memory_key=\"chat_history\", return_messages=True)"
   ]
  },
  {
   "cell_type": "code",
   "execution_count": 525,
   "metadata": {},
   "outputs": [],
   "source": [
    "# Combine everything into a retriever chain\n",
    "retriever_chain = RunnableParallel({\n",
    "    \"context\": itemgetter(\"input\") | retriever ,\n",
    "    \"topic\": itemgetter(\"topic\") ,  \n",
    "    \"method\": itemgetter(\"method\") ,  \n",
    "    \"input\": itemgetter(\"input\"),  \n",
    "    \"chat_history\": itemgetter(\"chat_history\")\n",
    "}) | prompt | llm | StrOutputParser()"
   ]
  },
  {
   "cell_type": "code",
   "execution_count": 526,
   "metadata": {},
   "outputs": [],
   "source": [
    "topic = \"AI\"  # Set your topic\n",
    "method = \"Code\"  # Set your method\n",
    "input_text = \"What is Langgraph?\"\n",
    "chat_history = memory.load_memory_variables({})['chat_history']"
   ]
  },
  {
   "cell_type": "code",
   "execution_count": 527,
   "metadata": {},
   "outputs": [],
   "source": [
    "# Now you can run the retriever_chain with the appropriate input\n",
    "result = retriever_chain.invoke({\n",
    "    'topic': topic,\n",
    "    'method': method,\n",
    "    'input': input_text,  # Use 'input' instead of 'input_text'\n",
    "    'chat_history': chat_history\n",
    "})\n",
    "\n",
    "# Format the prompt with the contextual input\n",
    "input_string = prompt.format(topic=topic, method=method, input=input_text, chat_history=chat_history, context=retriever.invoke(input_text))\n",
    "\n",
    "memory.save_context(inputs={HumanMessage:input_string},outputs={AIMessage:result})\n"
   ]
  },
  {
   "cell_type": "code",
   "execution_count": 528,
   "metadata": {},
   "outputs": [
    {
     "name": "stdout",
     "output_type": "stream",
     "text": [
      "LangGraph is part of the LangChain ecosystem, which is a leading platform in AI development. It allows users to build language agents as graphs. The LangGraph ecosystem includes several components, such as:\n",
      "\n",
      "1. LangGraph Cloud: A cloud-based version of LangGraph.\n",
      "2. LangGraph Platform: A combination of several offerings, including LangGraph Server, LangGraph Studio, CLI (Command Line Interface), and SDK (Software Development Kit).\n",
      "3. LangGraph Server: A component that has received new features to enhance its value proposition.\n",
      "4. LangGraph Studio: A new tool that provides a graphical interface for working with LangGraph.\n",
      "\n",
      "LangGraph is used to build language agents as graphs, and it is part of a larger ecosystem that includes other tools like LangSmith, which features self-improving evaluators.\n"
     ]
    }
   ],
   "source": [
    "print(result)"
   ]
  }
 ],
 "metadata": {
  "kernelspec": {
   "display_name": "myenv",
   "language": "python",
   "name": "python3"
  },
  "language_info": {
   "codemirror_mode": {
    "name": "ipython",
    "version": 3
   },
   "file_extension": ".py",
   "mimetype": "text/x-python",
   "name": "python",
   "nbconvert_exporter": "python",
   "pygments_lexer": "ipython3",
   "version": "3.11.5"
  }
 },
 "nbformat": 4,
 "nbformat_minor": 2
}
